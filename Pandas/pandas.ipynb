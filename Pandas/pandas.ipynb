{
 "cells": [
  {
   "cell_type": "code",
   "execution_count": 2,
   "metadata": {},
   "outputs": [],
   "source": [
    "#pandas piplelines \n",
    "\n",
    "# ------------------------------------------------------------------------------\n",
    "# Pandas Series Overview\n",
    "# ------------------------------------------------------------------------------\n",
    "# A Pandas Series is a one-dimensional labeled array capable of holding any data type.\n",
    "# It is similar to a column in a spreadsheet or database table.\n",
    "#\n",
    "# Example:\n",
    "# import pandas as pd\n",
    "# s = pd.Series([100, 200, 300], index=['a', 'b', 'c'])\n",
    "#\n",
    "# Features:\n",
    "# - Labeled Indexing:\n",
    "#     You can access elements by custom labels (e.g., s['b'] gives 200).\n",
    "# - Vectorized Operations:\n",
    "#     Supports operations like s + 10 or s * 2 applied to each element.\n",
    "# - Data Types:\n",
    "#     Can hold integers, floats, strings, or even Python objects.\n",
    "# - Dictionary Input:\n",
    "#     Series can be created from a dictionary, where keys become index labels.\n",
    "#     Example: pd.Series({'a': 10, 'b': 20})\n",
    "#\n",
    "# Use Cases:\n",
    "# - When you need a single labeled column of data.\n",
    "# - Acts as a building block for DataFrames (which are 2D structures).\n",
    "# ------------------------------------------------------------------------------\n",
    "\n"
   ]
  },
  {
   "cell_type": "code",
   "execution_count": 3,
   "metadata": {},
   "outputs": [
    {
     "data": {
      "text/plain": [
       "0      Male\n",
       "1    Female\n",
       "2      Male\n",
       "3      Male\n",
       "4    Female\n",
       "5    Female\n",
       "6    Female\n",
       "dtype: object"
      ]
     },
     "execution_count": 3,
     "metadata": {},
     "output_type": "execute_result"
    }
   ],
   "source": [
    "#Creating Series using list\n",
    "\n",
    "import pandas as pd\n",
    "\n",
    "pd.Series(['Male','Female','Male','Male','Female','Female','Female'])\n"
   ]
  },
  {
   "cell_type": "code",
   "execution_count": 4,
   "metadata": {},
   "outputs": [
    {
     "name": "stdout",
     "output_type": "stream",
     "text": [
      "<class 'pandas.core.series.Series'>\n",
      "0      Male\n",
      "1    Female\n",
      "2      Male\n",
      "3      Male\n",
      "4    Female\n",
      "5    Female\n",
      "6    Female\n",
      "dtype: object\n"
     ]
    }
   ],
   "source": [
    "#creating list using array\n",
    "import numpy as np\n",
    "ser=pd.Series(np.array(['Male','Female','Male','Male','Female','Female','Female']))\n",
    "print(type(ser))\n",
    "print(ser)"
   ]
  },
  {
   "cell_type": "code",
   "execution_count": 5,
   "metadata": {},
   "outputs": [
    {
     "name": "stdout",
     "output_type": "stream",
     "text": [
      "a    1\n",
      "b    2\n",
      "c    3\n",
      "dtype: int64\n",
      "\n",
      "Index(['a', 'b', 'c'], dtype='object')\n",
      "[1 2 3]\n"
     ]
    }
   ],
   "source": [
    "#creating series using dictionary\n",
    "\n",
    "#key is used as the index and value=value\n",
    "dict_data={'a':1,'b':2,'c':3}\n",
    "ser1=pd.Series(dict_data)\n",
    "print(ser1)\n",
    "print()\n",
    "print(ser1.index)\n",
    "print(ser1.values)"
   ]
  },
  {
   "cell_type": "markdown",
   "metadata": {},
   "source": [
    "<h1>Dataframe"
   ]
  },
  {
   "cell_type": "code",
   "execution_count": 6,
   "metadata": {},
   "outputs": [],
   "source": [
    "# ------------------------------------------------------------------------------\n",
    "# Pandas DataFrame Overview\n",
    "# ------------------------------------------------------------------------------\n",
    "# A Pandas DataFrame is a 2-dimensional, labeled data structure similar to a table,\n",
    "# spreadsheet, or SQL result set.\n",
    "#\n",
    "# Structure:\n",
    "# - It consists of rows and columns.\n",
    "# - Each column is essentially a Pandas Series.\n",
    "# - Columns can hold different data types (int, float, string, etc.).\n",
    "#\n",
    "# Example:\n",
    "# import pandas as pd\n",
    "# data = {\n",
    "#     'Name': ['Alice', 'Bob', 'Charlie'],\n",
    "#     'Age': [25, 30, 22],\n",
    "#     'City': ['New York', 'London', 'Paris']\n",
    "# }\n",
    "# df = pd.DataFrame(data)\n",
    "#\n",
    "# Common Operations:\n",
    "# - df['Age']           -> Access a column (returns a Series)\n",
    "# - df.loc[1]           -> Access row by label\n",
    "# - df.iloc[1]          -> Access row by position\n",
    "# - df['Age'].mean()    -> Calculate average of Age column\n",
    "#\n",
    "# Use Cases:\n",
    "# - Storing and analyzing structured data\n",
    "# - Importing/exporting data from CSV, Excel, SQL, etc.\n",
    "# - Performing data cleaning, filtering, aggregation, and visualization\n",
    "# ------------------------------------------------------------------------------\n"
   ]
  },
  {
   "cell_type": "code",
   "execution_count": 7,
   "metadata": {},
   "outputs": [
    {
     "name": "stdout",
     "output_type": "stream",
     "text": [
      "      Name  Age   Sex\n",
      "0  alyster   23  MALE\n",
      "1    alvin   24  MALE\n",
      "2     alex   25  MALE\n",
      "3    tanay   26  MALE\n"
     ]
    }
   ],
   "source": [
    "df=pd.DataFrame({'Name':[\"alyster\",\"alvin\",\"alex\",\"tanay\"],\n",
    "              'Age':[23,24,25,26],\n",
    "              'Sex': [\"MALE\",\"MALE\",\"MALE\",\"MALE\"]})\n",
    "print(df)"
   ]
  },
  {
   "cell_type": "code",
   "execution_count": 8,
   "metadata": {},
   "outputs": [
    {
     "name": "stdout",
     "output_type": "stream",
     "text": [
      "0    alyster\n",
      "1      alvin\n",
      "2       alex\n",
      "3      tanay\n",
      "Name: Name, dtype: object\n",
      "\n",
      "alex\n"
     ]
    }
   ],
   "source": [
    "#extracting single column from the dataframe(i.e printing series)\n",
    "print(df['Name'])\n",
    "print()\n",
    "print(df['Name'][2])"
   ]
  },
  {
   "cell_type": "code",
   "execution_count": 9,
   "metadata": {},
   "outputs": [
    {
     "data": {
      "text/html": [
       "<div>\n",
       "<style scoped>\n",
       "    .dataframe tbody tr th:only-of-type {\n",
       "        vertical-align: middle;\n",
       "    }\n",
       "\n",
       "    .dataframe tbody tr th {\n",
       "        vertical-align: top;\n",
       "    }\n",
       "\n",
       "    .dataframe thead th {\n",
       "        text-align: right;\n",
       "    }\n",
       "</style>\n",
       "<table border=\"1\" class=\"dataframe\">\n",
       "  <thead>\n",
       "    <tr style=\"text-align: right;\">\n",
       "      <th></th>\n",
       "      <th>0</th>\n",
       "      <th>1</th>\n",
       "      <th>2</th>\n",
       "    </tr>\n",
       "  </thead>\n",
       "  <tbody>\n",
       "    <tr>\n",
       "      <th>0</th>\n",
       "      <td>123</td>\n",
       "      <td>456</td>\n",
       "      <td>789</td>\n",
       "    </tr>\n",
       "    <tr>\n",
       "      <th>1</th>\n",
       "      <td>213</td>\n",
       "      <td>565</td>\n",
       "      <td>852</td>\n",
       "    </tr>\n",
       "    <tr>\n",
       "      <th>2</th>\n",
       "      <td>akl</td>\n",
       "      <td>bsg</td>\n",
       "      <td>cfg</td>\n",
       "    </tr>\n",
       "  </tbody>\n",
       "</table>\n",
       "</div>"
      ],
      "text/plain": [
       "     0    1    2\n",
       "0  123  456  789\n",
       "1  213  565  852\n",
       "2  akl  bsg  cfg"
      ]
     },
     "execution_count": 9,
     "metadata": {},
     "output_type": "execute_result"
    }
   ],
   "source": [
    "#dataframe when column name is not specified\n",
    "#since column name is not specified , it apprears as Range Index object\n",
    "pd.DataFrame([[123,456,789],[213,565,852],['akl','bsg','cfg']])"
   ]
  },
  {
   "cell_type": "markdown",
   "metadata": {},
   "source": [
    "#series operations"
   ]
  },
  {
   "cell_type": "code",
   "execution_count": 10,
   "metadata": {},
   "outputs": [
    {
     "name": "stdout",
     "output_type": "stream",
     "text": [
      "hazel    200\n",
      "blue      45\n",
      "green    789\n",
      "dtype: int64\n"
     ]
    }
   ],
   "source": [
    "eyes=pd.Series({'hazel':200,'blue':45,'green':789})\n",
    "print(eyes)\n"
   ]
  },
  {
   "cell_type": "code",
   "execution_count": 11,
   "metadata": {},
   "outputs": [
    {
     "name": "stdout",
     "output_type": "stream",
     "text": [
      "Index(['hazel', 'blue', 'green'], dtype='object')\n",
      "eye_color\n",
      "[200  45 789]\n",
      "\n",
      "<bound method Series.sort_values of hazel    200\n",
      "blue      45\n",
      "green    789\n",
      "Name: eye_color, dtype: int64>\n",
      "<bound method Series.sort_index of hazel    200\n",
      "blue      45\n",
      "green    789\n",
      "Name: eye_color, dtype: int64>\n",
      "[200  45 789]\n",
      "3\n"
     ]
    }
   ],
   "source": [
    "#attributes of Series object\n",
    "print(eyes.index)\n",
    "eyes.name='eye_color'\n",
    "print(eyes.name)\n",
    "\n",
    "\n",
    "print(eyes.values)\n",
    "\n",
    "print()\n",
    "print(eyes.sort_values)\n",
    "print(eyes.sort_index)\n",
    "\n",
    "print(eyes.unique())\n",
    "print(eyes.nunique())\n"
   ]
  },
  {
   "cell_type": "code",
   "execution_count": 12,
   "metadata": {},
   "outputs": [
    {
     "name": "stdout",
     "output_type": "stream",
     "text": [
      "brown    220\n",
      "blue     215\n",
      "blue      93\n",
      "hazel     64\n",
      "green     64\n",
      "dtype: int64\n"
     ]
    }
   ],
   "source": [
    "#duplicate values\n",
    "\n",
    "my_data2=[220,215,93,64,64]\n",
    "eye2=pd.Series(data=my_data2,index=['brown','blue','blue','hazel','green'])\n",
    "print(eye2)"
   ]
  },
  {
   "cell_type": "code",
   "execution_count": 13,
   "metadata": {},
   "outputs": [
    {
     "data": {
      "text/plain": [
       "array([220, 215,  93,  64], dtype=int64)"
      ]
     },
     "execution_count": 13,
     "metadata": {},
     "output_type": "execute_result"
    }
   ],
   "source": [
    "eye2.unique()"
   ]
  },
  {
   "cell_type": "code",
   "execution_count": 14,
   "metadata": {},
   "outputs": [
    {
     "data": {
      "text/plain": [
       "64     2\n",
       "220    1\n",
       "215    1\n",
       "93     1\n",
       "Name: count, dtype: int64"
      ]
     },
     "execution_count": 14,
     "metadata": {},
     "output_type": "execute_result"
    }
   ],
   "source": [
    "eye2.value_counts()"
   ]
  },
  {
   "cell_type": "code",
   "execution_count": 15,
   "metadata": {},
   "outputs": [
    {
     "data": {
      "text/plain": [
       "Index(['brown', 'blue', 'blue', 'hazel', 'green'], dtype='object')"
      ]
     },
     "execution_count": 15,
     "metadata": {},
     "output_type": "execute_result"
    }
   ],
   "source": [
    "eye2.index"
   ]
  },
  {
   "cell_type": "code",
   "execution_count": 16,
   "metadata": {},
   "outputs": [
    {
     "data": {
      "text/plain": [
       "4"
      ]
     },
     "execution_count": 16,
     "metadata": {},
     "output_type": "execute_result"
    }
   ],
   "source": [
    "eye2.nunique()"
   ]
  },
  {
   "cell_type": "code",
   "execution_count": 17,
   "metadata": {},
   "outputs": [
    {
     "name": "stdout",
     "output_type": "stream",
     "text": [
      "8\n",
      "\n",
      "b    5\n",
      "c    9\n",
      "d    8\n",
      "dtype: int64\n"
     ]
    }
   ],
   "source": [
    "#Series can be indexed and sliced like numpy arrays\n",
    "ser3=pd.Series([1,5,9,8,7,4,6,3,5,7,8],index=['a','b','c','d','e','f','g','h','i','j','k'])\n",
    "\n",
    "\n",
    "print(ser3['d']) #value at index d\n",
    "print()\n",
    "print(ser3[1:4]) #values from index 1 to 4"
   ]
  },
  {
   "cell_type": "code",
   "execution_count": 18,
   "metadata": {},
   "outputs": [
    {
     "name": "stdout",
     "output_type": "stream",
     "text": [
      "Original Series:\n",
      "a    10\n",
      "b    20\n",
      "c    30\n",
      "d    40\n",
      "e    50\n",
      "dtype: int64\n",
      "\n",
      "Element at index 'c': 30\n",
      "\n",
      "Series after adding 5:\n",
      "a    15\n",
      "b    25\n",
      "c    35\n",
      "d    45\n",
      "e    55\n",
      "dtype: int64\n",
      "\n",
      "Elements greater than 25:\n",
      "c    30\n",
      "d    40\n",
      "e    50\n",
      "dtype: int64\n"
     ]
    }
   ],
   "source": [
    "#Series Operations:\n",
    "# - Arithmetic operations (addition, subtraction, etc.) are vectorized.\n",
    "# - You can perform operations on Series with different lengths.\n",
    "import pandas as pd\n",
    "\n",
    "# Create a Series with custom index\n",
    "s = pd.Series([10, 20, 30, 40, 50], index=['a', 'b', 'c', 'd', 'e'])\n",
    "\n",
    "# Display original series\n",
    "print(\"Original Series:\")\n",
    "print(s)\n",
    "\n",
    "# Accessing elements\n",
    "print(\"\\nElement at index 'c':\", s['c'])\n",
    "\n",
    "# Vectorized arithmetic operation (add 5 to each element)\n",
    "print(\"\\nSeries after adding 5:\")\n",
    "print(s + 5)\n",
    "\n",
    "# Filtering elements greater than 25\n",
    "print(\"\\nElements greater than 25:\")\n",
    "print(s[s > 25])\n",
    "\n",
    "\n"
   ]
  },
  {
   "cell_type": "code",
   "execution_count": 19,
   "metadata": {},
   "outputs": [
    {
     "name": "stdout",
     "output_type": "stream",
     "text": [
      "\n",
      "Addition:\n",
      "a    11\n",
      "b    22\n",
      "c    33\n",
      "dtype: int64\n",
      "\n",
      "Subtraction:\n",
      "a     9\n",
      "b    18\n",
      "c    27\n",
      "dtype: int64\n",
      "\n",
      "Multiplication:\n",
      "a    10\n",
      "b    40\n",
      "c    90\n",
      "dtype: int64\n",
      "\n",
      "Division:\n",
      "a    10.0\n",
      "b    10.0\n",
      "c    10.0\n",
      "dtype: float64\n",
      "\n",
      "Addition:\n",
      "a     NaN\n",
      "b    21.0\n",
      "c    32.0\n",
      "d     NaN\n",
      "dtype: float64\n",
      "\n",
      "Subtraction:\n",
      "a     NaN\n",
      "b    19.0\n",
      "c    28.0\n",
      "d     NaN\n",
      "dtype: float64\n",
      "\n",
      "Multiplication:\n",
      "a     NaN\n",
      "b    20.0\n",
      "c    60.0\n",
      "d     NaN\n",
      "dtype: float64\n",
      "\n",
      "Division:\n",
      "a     NaN\n",
      "b    20.0\n",
      "c    15.0\n",
      "d     NaN\n",
      "dtype: float64\n",
      "\n",
      "Addition with fill_value=0:\n",
      "a    10.0\n",
      "b    21.0\n",
      "c    32.0\n",
      "d     3.0\n",
      "dtype: float64\n"
     ]
    }
   ],
   "source": [
    "import pandas as pd\n",
    "\n",
    "# ------------------------------------------------------------------------------\n",
    "# 🧮 Series Arithmetic - Matching Indexes\n",
    "# ------------------------------------------------------------------------------\n",
    "\n",
    "# Two Series with exactly matching indexes\n",
    "s1_match = pd.Series([10, 20, 30], index=['a', 'b', 'c'])\n",
    "s2_match = pd.Series([1, 2, 3], index=['a', 'b', 'c'])\n",
    "\n",
    "\n",
    "\n",
    "# Arithmetic operations\n",
    "print(\"\\nAddition:\")\n",
    "print(s1_match + s2_match)\n",
    "\n",
    "print(\"\\nSubtraction:\")\n",
    "print(s1_match - s2_match)\n",
    "\n",
    "print(\"\\nMultiplication:\")\n",
    "print(s1_match * s2_match)\n",
    "\n",
    "print(\"\\nDivision:\")\n",
    "print(s1_match / s2_match)\n",
    "\n",
    "\n",
    "# ------------------------------------------------------------------------------\n",
    "# ⚠️ Series Arithmetic - Non-Matching Indexes\n",
    "# ------------------------------------------------------------------------------\n",
    "\n",
    "# Two Series with different indexes (partial overlap)\n",
    "s1_mismatch = pd.Series([10, 20, 30], index=['a', 'b', 'c'])\n",
    "s2_mismatch = pd.Series([1, 2, 3], index=['b', 'c', 'd'])\n",
    "\n",
    "\n",
    "\n",
    "# Arithmetic operations result in NaN for unmatched indexes\n",
    "print(\"\\nAddition:\")\n",
    "print(s1_mismatch + s2_mismatch)\n",
    "\n",
    "print(\"\\nSubtraction:\")\n",
    "print(s1_mismatch - s2_mismatch)\n",
    "\n",
    "print(\"\\nMultiplication:\")\n",
    "print(s1_mismatch * s2_mismatch)\n",
    "\n",
    "print(\"\\nDivision:\")\n",
    "print(s1_mismatch / s2_mismatch)\n",
    "\n",
    "# Using fill_value to handle NaNs by treating missing as 0\n",
    "print(\"\\nAddition with fill_value=0:\")\n",
    "print(s1_mismatch.add(s2_mismatch, fill_value=0))\n"
   ]
  },
  {
   "cell_type": "code",
   "execution_count": 20,
   "metadata": {},
   "outputs": [],
   "source": [
    "# ------------------------------------------------------------------------------\n",
    "# Explanation of Statistical Functions in Pandas Series\n",
    "# ------------------------------------------------------------------------------\n",
    "\n",
    "# sum(): \n",
    "#   Returns the sum of all elements in the Series.\n",
    "\n",
    "# mean(): \n",
    "#   Returns the average (mean) of the elements in the Series.\n",
    "\n",
    "# median(): \n",
    "#   Returns the median (middle value when sorted) of the elements in the Series.\n",
    "\n",
    "# std(): \n",
    "#   Returns the standard deviation, which shows how spread out the values are in the Series.\n",
    "\n",
    "# var(): \n",
    "#   Returns the variance, which is the square of the standard deviation of the Series.\n",
    "\n",
    "# min(): \n",
    "#   Returns the smallest element in the Series.\n",
    "\n",
    "# max(): \n",
    "#   Returns the largest element in the Series.\n",
    "\n",
    "# count(): \n",
    "#   Returns the number of non-null elements in the Series.\n",
    "\n",
    "# describe(): \n",
    "#   Provides a summary of the Series with key statistics:\n",
    "#   - count: Number of non-null elements\n",
    "#   - mean: Average of the elements\n",
    "#   - std: Standard deviation\n",
    "#   - min: Minimum value\n",
    "#   - 25%: 25th percentile\n",
    "#   - 50%: Median (50th percentile)\n",
    "#   - 75%: 75th percentile\n",
    "#   - max: Maximum value\n",
    "# ------------------------------------------------------------------------------\n",
    "\n"
   ]
  },
  {
   "cell_type": "code",
   "execution_count": 21,
   "metadata": {},
   "outputs": [
    {
     "name": "stdout",
     "output_type": "stream",
     "text": [
      "Series:\n",
      "0    10\n",
      "1    20\n",
      "2    30\n",
      "3    40\n",
      "4    50\n",
      "dtype: int64\n",
      "\n",
      "Sum of Series: 150\n",
      "Mean of Series: 30.0\n",
      "Median of Series: 30.0\n",
      "Standard Deviation of Series: 15.811388300841896\n",
      "Variance of Series: 250.0\n",
      "Minimum value of Series: 10\n",
      "Maximum value of Series: 50\n",
      "Count of non-null elements in Series: 5\n",
      "\n",
      "Description of Series:\n",
      "count     5.000000\n",
      "mean     30.000000\n",
      "std      15.811388\n",
      "min      10.000000\n",
      "25%      20.000000\n",
      "50%      30.000000\n",
      "75%      40.000000\n",
      "max      50.000000\n",
      "dtype: float64\n"
     ]
    }
   ],
   "source": [
    "import pandas as pd\n",
    "\n",
    "# ------------------------------------------------------------------------------\n",
    "# Creating a Series for Statistical Operations\n",
    "# ------------------------------------------------------------------------------\n",
    "\n",
    "# Create a simple Series\n",
    "s = pd.Series([10, 20, 30, 40, 50])\n",
    "\n",
    "print(\"Series:\")\n",
    "print(s)\n",
    "\n",
    "# ------------------------------------------------------------------------------\n",
    "# Statistical Operations on Series\n",
    "# ------------------------------------------------------------------------------\n",
    "\n",
    "# Sum of the elements\n",
    "sum_val = s.sum()\n",
    "print(\"\\nSum of Series:\", sum_val)\n",
    "\n",
    "# Mean (average) of the elements\n",
    "mean_val = s.mean()\n",
    "print(\"Mean of Series:\", mean_val)\n",
    "\n",
    "# Median of the elements\n",
    "median_val = s.median()\n",
    "print(\"Median of Series:\", median_val)\n",
    "\n",
    "# Standard deviation of the elements\n",
    "std_dev = s.std()\n",
    "print(\"Standard Deviation of Series:\", std_dev)\n",
    "\n",
    "# Variance of the elements\n",
    "variance_val = s.var()\n",
    "print(\"Variance of Series:\", variance_val)\n",
    "\n",
    "# Minimum value in the Series\n",
    "min_val = s.min()\n",
    "print(\"Minimum value of Series:\", min_val)\n",
    "\n",
    "# Maximum value in the Series\n",
    "max_val = s.max()\n",
    "print(\"Maximum value of Series:\", max_val)\n",
    "\n",
    "# Count of non-null elements\n",
    "count_val = s.count()\n",
    "print(\"Count of non-null elements in Series:\", count_val)\n",
    "\n",
    "# Description of basic statistical properties\n",
    "print(\"\\nDescription of Series:\")\n",
    "print(s.describe())\n"
   ]
  },
  {
   "cell_type": "markdown",
   "metadata": {},
   "source": [
    "<h1>Lambda Function in Series"
   ]
  },
  {
   "cell_type": "code",
   "execution_count": 22,
   "metadata": {},
   "outputs": [
    {
     "name": "stdout",
     "output_type": "stream",
     "text": [
      "Original Series:\n",
      "0    10\n",
      "1    20\n",
      "2    30\n",
      "3    40\n",
      "4    50\n",
      "dtype: int64\n",
      "\n",
      "Series after applying lambda function (x * 2):\n",
      "0     20\n",
      "1     40\n",
      "2     60\n",
      "3     80\n",
      "4    100\n",
      "dtype: int64\n"
     ]
    }
   ],
   "source": [
    "import pandas as pd\n",
    "\n",
    "# Create a Series\n",
    "s = pd.Series([10, 20, 30, 40, 50])\n",
    "\n",
    "# Apply a lambda function to each element: multiply each value by 2\n",
    "result = s.apply(lambda x: x * 2)\n",
    "\n",
    "print(\"Original Series:\")\n",
    "print(s)\n",
    "\n",
    "print(\"\\nSeries after applying lambda function (x * 2):\")\n",
    "print(result)\n"
   ]
  },
  {
   "cell_type": "code",
   "execution_count": 23,
   "metadata": {},
   "outputs": [
    {
     "name": "stdout",
     "output_type": "stream",
     "text": [
      "\n",
      "Series with conditional categories (High/Low):\n",
      "0     Low\n",
      "1     Low\n",
      "2     Low\n",
      "3    High\n",
      "4    High\n",
      "dtype: object\n"
     ]
    }
   ],
   "source": [
    "# Create a Series\n",
    "s = pd.Series([10, 20, 30, 40, 50])\n",
    "\n",
    "# Apply a lambda function to categorize the numbers\n",
    "result = s.apply(lambda x: 'High' if x > 30 else 'Low')\n",
    "\n",
    "print(\"\\nSeries with conditional categories (High/Low):\")\n",
    "print(result)\n"
   ]
  },
  {
   "cell_type": "code",
   "execution_count": 24,
   "metadata": {},
   "outputs": [
    {
     "name": "stdout",
     "output_type": "stream",
     "text": [
      "\n",
      "Series after using map with lambda (x + 5):\n",
      "0    15\n",
      "1    25\n",
      "2    35\n",
      "3    45\n",
      "4    55\n",
      "dtype: int64\n"
     ]
    }
   ],
   "source": [
    "# Create a Series\n",
    "s = pd.Series([10, 20, 30, 40, 50])\n",
    "\n",
    "# Map function with a lambda that adds 5 to each element\n",
    "result = s.map(lambda x: x + 5)\n",
    "\n",
    "print(\"\\nSeries after using map with lambda (x + 5):\")\n",
    "print(result)\n"
   ]
  },
  {
   "cell_type": "markdown",
   "metadata": {},
   "source": [
    "Reading CSV"
   ]
  },
  {
   "cell_type": "code",
   "execution_count": 26,
   "metadata": {},
   "outputs": [],
   "source": [
    "iris = pd.read_csv('C:/Users/bened/Documents/Alyster Coding/CODING/AIML/Datasets/iris/Iris.csv')"
   ]
  },
  {
   "cell_type": "code",
   "execution_count": 27,
   "metadata": {},
   "outputs": [
    {
     "data": {
      "text/plain": [
       "pandas.core.frame.DataFrame"
      ]
     },
     "execution_count": 27,
     "metadata": {},
     "output_type": "execute_result"
    }
   ],
   "source": [
    "type(iris)"
   ]
  },
  {
   "cell_type": "code",
   "execution_count": 29,
   "metadata": {},
   "outputs": [
    {
     "name": "stdout",
     "output_type": "stream",
     "text": [
      "<class 'pandas.core.frame.DataFrame'>\n",
      "RangeIndex: 150 entries, 0 to 149\n",
      "Data columns (total 6 columns):\n",
      " #   Column         Non-Null Count  Dtype  \n",
      "---  ------         --------------  -----  \n",
      " 0   Id             150 non-null    int64  \n",
      " 1   SepalLengthCm  150 non-null    float64\n",
      " 2   SepalWidthCm   150 non-null    float64\n",
      " 3   PetalLengthCm  150 non-null    float64\n",
      " 4   PetalWidthCm   150 non-null    float64\n",
      " 5   Species        150 non-null    object \n",
      "dtypes: float64(4), int64(1), object(1)\n",
      "memory usage: 7.2+ KB\n"
     ]
    }
   ],
   "source": [
    "iris.info()"
   ]
  },
  {
   "cell_type": "code",
   "execution_count": 31,
   "metadata": {},
   "outputs": [
    {
     "data": {
      "text/html": [
       "<div>\n",
       "<style scoped>\n",
       "    .dataframe tbody tr th:only-of-type {\n",
       "        vertical-align: middle;\n",
       "    }\n",
       "\n",
       "    .dataframe tbody tr th {\n",
       "        vertical-align: top;\n",
       "    }\n",
       "\n",
       "    .dataframe thead th {\n",
       "        text-align: right;\n",
       "    }\n",
       "</style>\n",
       "<table border=\"1\" class=\"dataframe\">\n",
       "  <thead>\n",
       "    <tr style=\"text-align: right;\">\n",
       "      <th></th>\n",
       "      <th>Id</th>\n",
       "      <th>SepalLengthCm</th>\n",
       "      <th>SepalWidthCm</th>\n",
       "      <th>PetalLengthCm</th>\n",
       "      <th>PetalWidthCm</th>\n",
       "      <th>Species</th>\n",
       "    </tr>\n",
       "  </thead>\n",
       "  <tbody>\n",
       "    <tr>\n",
       "      <th>0</th>\n",
       "      <td>1</td>\n",
       "      <td>5.1</td>\n",
       "      <td>3.5</td>\n",
       "      <td>1.4</td>\n",
       "      <td>0.2</td>\n",
       "      <td>Iris-setosa</td>\n",
       "    </tr>\n",
       "    <tr>\n",
       "      <th>1</th>\n",
       "      <td>2</td>\n",
       "      <td>4.9</td>\n",
       "      <td>3.0</td>\n",
       "      <td>1.4</td>\n",
       "      <td>0.2</td>\n",
       "      <td>Iris-setosa</td>\n",
       "    </tr>\n",
       "    <tr>\n",
       "      <th>2</th>\n",
       "      <td>3</td>\n",
       "      <td>4.7</td>\n",
       "      <td>3.2</td>\n",
       "      <td>1.3</td>\n",
       "      <td>0.2</td>\n",
       "      <td>Iris-setosa</td>\n",
       "    </tr>\n",
       "    <tr>\n",
       "      <th>3</th>\n",
       "      <td>4</td>\n",
       "      <td>4.6</td>\n",
       "      <td>3.1</td>\n",
       "      <td>1.5</td>\n",
       "      <td>0.2</td>\n",
       "      <td>Iris-setosa</td>\n",
       "    </tr>\n",
       "    <tr>\n",
       "      <th>4</th>\n",
       "      <td>5</td>\n",
       "      <td>5.0</td>\n",
       "      <td>3.6</td>\n",
       "      <td>1.4</td>\n",
       "      <td>0.2</td>\n",
       "      <td>Iris-setosa</td>\n",
       "    </tr>\n",
       "  </tbody>\n",
       "</table>\n",
       "</div>"
      ],
      "text/plain": [
       "   Id  SepalLengthCm  SepalWidthCm  PetalLengthCm  PetalWidthCm      Species\n",
       "0   1            5.1           3.5            1.4           0.2  Iris-setosa\n",
       "1   2            4.9           3.0            1.4           0.2  Iris-setosa\n",
       "2   3            4.7           3.2            1.3           0.2  Iris-setosa\n",
       "3   4            4.6           3.1            1.5           0.2  Iris-setosa\n",
       "4   5            5.0           3.6            1.4           0.2  Iris-setosa"
      ]
     },
     "execution_count": 31,
     "metadata": {},
     "output_type": "execute_result"
    }
   ],
   "source": [
    "iris.head()"
   ]
  },
  {
   "cell_type": "code",
   "execution_count": 32,
   "metadata": {},
   "outputs": [
    {
     "data": {
      "text/html": [
       "<div>\n",
       "<style scoped>\n",
       "    .dataframe tbody tr th:only-of-type {\n",
       "        vertical-align: middle;\n",
       "    }\n",
       "\n",
       "    .dataframe tbody tr th {\n",
       "        vertical-align: top;\n",
       "    }\n",
       "\n",
       "    .dataframe thead th {\n",
       "        text-align: right;\n",
       "    }\n",
       "</style>\n",
       "<table border=\"1\" class=\"dataframe\">\n",
       "  <thead>\n",
       "    <tr style=\"text-align: right;\">\n",
       "      <th></th>\n",
       "      <th>Id</th>\n",
       "      <th>SepalLengthCm</th>\n",
       "      <th>SepalWidthCm</th>\n",
       "      <th>PetalLengthCm</th>\n",
       "      <th>PetalWidthCm</th>\n",
       "      <th>Species</th>\n",
       "    </tr>\n",
       "  </thead>\n",
       "  <tbody>\n",
       "    <tr>\n",
       "      <th>145</th>\n",
       "      <td>146</td>\n",
       "      <td>6.7</td>\n",
       "      <td>3.0</td>\n",
       "      <td>5.2</td>\n",
       "      <td>2.3</td>\n",
       "      <td>Iris-virginica</td>\n",
       "    </tr>\n",
       "    <tr>\n",
       "      <th>146</th>\n",
       "      <td>147</td>\n",
       "      <td>6.3</td>\n",
       "      <td>2.5</td>\n",
       "      <td>5.0</td>\n",
       "      <td>1.9</td>\n",
       "      <td>Iris-virginica</td>\n",
       "    </tr>\n",
       "    <tr>\n",
       "      <th>147</th>\n",
       "      <td>148</td>\n",
       "      <td>6.5</td>\n",
       "      <td>3.0</td>\n",
       "      <td>5.2</td>\n",
       "      <td>2.0</td>\n",
       "      <td>Iris-virginica</td>\n",
       "    </tr>\n",
       "    <tr>\n",
       "      <th>148</th>\n",
       "      <td>149</td>\n",
       "      <td>6.2</td>\n",
       "      <td>3.4</td>\n",
       "      <td>5.4</td>\n",
       "      <td>2.3</td>\n",
       "      <td>Iris-virginica</td>\n",
       "    </tr>\n",
       "    <tr>\n",
       "      <th>149</th>\n",
       "      <td>150</td>\n",
       "      <td>5.9</td>\n",
       "      <td>3.0</td>\n",
       "      <td>5.1</td>\n",
       "      <td>1.8</td>\n",
       "      <td>Iris-virginica</td>\n",
       "    </tr>\n",
       "  </tbody>\n",
       "</table>\n",
       "</div>"
      ],
      "text/plain": [
       "      Id  SepalLengthCm  SepalWidthCm  PetalLengthCm  PetalWidthCm  \\\n",
       "145  146            6.7           3.0            5.2           2.3   \n",
       "146  147            6.3           2.5            5.0           1.9   \n",
       "147  148            6.5           3.0            5.2           2.0   \n",
       "148  149            6.2           3.4            5.4           2.3   \n",
       "149  150            5.9           3.0            5.1           1.8   \n",
       "\n",
       "            Species  \n",
       "145  Iris-virginica  \n",
       "146  Iris-virginica  \n",
       "147  Iris-virginica  \n",
       "148  Iris-virginica  \n",
       "149  Iris-virginica  "
      ]
     },
     "execution_count": 32,
     "metadata": {},
     "output_type": "execute_result"
    }
   ],
   "source": [
    "iris.tail()\n",
    "#last 5 values of the dataset"
   ]
  },
  {
   "cell_type": "code",
   "execution_count": 35,
   "metadata": {},
   "outputs": [
    {
     "data": {
      "text/plain": [
       "Index(['Id', 'SepalLengthCm', 'SepalWidthCm', 'PetalLengthCm', 'PetalWidthCm',\n",
       "       'Species'],\n",
       "      dtype='object')"
      ]
     },
     "execution_count": 35,
     "metadata": {},
     "output_type": "execute_result"
    }
   ],
   "source": [
    "iris.columns"
   ]
  },
  {
   "cell_type": "code",
   "execution_count": 39,
   "metadata": {},
   "outputs": [
    {
     "data": {
      "text/plain": [
       "RangeIndex(start=0, stop=150, step=1)"
      ]
     },
     "execution_count": 39,
     "metadata": {},
     "output_type": "execute_result"
    }
   ],
   "source": [
    "iris.index"
   ]
  },
  {
   "cell_type": "code",
   "execution_count": 41,
   "metadata": {},
   "outputs": [],
   "source": [
    "iris.columns = ['ID','Sepal_Length', 'Sepal_Width', 'Petal_Length', 'Petal_Width', 'Species']"
   ]
  },
  {
   "cell_type": "code",
   "execution_count": 42,
   "metadata": {},
   "outputs": [
    {
     "data": {
      "text/plain": [
       "Index(['ID', 'Sepal_Length', 'Sepal_Width', 'Petal_Length', 'Petal_Width',\n",
       "       'Species'],\n",
       "      dtype='object')"
      ]
     },
     "execution_count": 42,
     "metadata": {},
     "output_type": "execute_result"
    }
   ],
   "source": [
    "iris.columns"
   ]
  },
  {
   "cell_type": "code",
   "execution_count": 43,
   "metadata": {},
   "outputs": [
    {
     "data": {
      "text/plain": [
       "0      5.1\n",
       "1      4.9\n",
       "2      4.7\n",
       "3      4.6\n",
       "4      5.0\n",
       "      ... \n",
       "145    6.7\n",
       "146    6.3\n",
       "147    6.5\n",
       "148    6.2\n",
       "149    5.9\n",
       "Name: Sepal_Length, Length: 150, dtype: float64"
      ]
     },
     "execution_count": 43,
     "metadata": {},
     "output_type": "execute_result"
    }
   ],
   "source": [
    "iris.Sepal_Length"
   ]
  },
  {
   "cell_type": "code",
   "execution_count": 46,
   "metadata": {},
   "outputs": [
    {
     "data": {
      "text/html": [
       "<div>\n",
       "<style scoped>\n",
       "    .dataframe tbody tr th:only-of-type {\n",
       "        vertical-align: middle;\n",
       "    }\n",
       "\n",
       "    .dataframe tbody tr th {\n",
       "        vertical-align: top;\n",
       "    }\n",
       "\n",
       "    .dataframe thead th {\n",
       "        text-align: right;\n",
       "    }\n",
       "</style>\n",
       "<table border=\"1\" class=\"dataframe\">\n",
       "  <thead>\n",
       "    <tr style=\"text-align: right;\">\n",
       "      <th></th>\n",
       "      <th>Petal_Length</th>\n",
       "      <th>Petal_Width</th>\n",
       "    </tr>\n",
       "  </thead>\n",
       "  <tbody>\n",
       "    <tr>\n",
       "      <th>0</th>\n",
       "      <td>1.4</td>\n",
       "      <td>0.2</td>\n",
       "    </tr>\n",
       "    <tr>\n",
       "      <th>1</th>\n",
       "      <td>1.4</td>\n",
       "      <td>0.2</td>\n",
       "    </tr>\n",
       "    <tr>\n",
       "      <th>2</th>\n",
       "      <td>1.3</td>\n",
       "      <td>0.2</td>\n",
       "    </tr>\n",
       "    <tr>\n",
       "      <th>3</th>\n",
       "      <td>1.5</td>\n",
       "      <td>0.2</td>\n",
       "    </tr>\n",
       "    <tr>\n",
       "      <th>4</th>\n",
       "      <td>1.4</td>\n",
       "      <td>0.2</td>\n",
       "    </tr>\n",
       "    <tr>\n",
       "      <th>...</th>\n",
       "      <td>...</td>\n",
       "      <td>...</td>\n",
       "    </tr>\n",
       "    <tr>\n",
       "      <th>145</th>\n",
       "      <td>5.2</td>\n",
       "      <td>2.3</td>\n",
       "    </tr>\n",
       "    <tr>\n",
       "      <th>146</th>\n",
       "      <td>5.0</td>\n",
       "      <td>1.9</td>\n",
       "    </tr>\n",
       "    <tr>\n",
       "      <th>147</th>\n",
       "      <td>5.2</td>\n",
       "      <td>2.0</td>\n",
       "    </tr>\n",
       "    <tr>\n",
       "      <th>148</th>\n",
       "      <td>5.4</td>\n",
       "      <td>2.3</td>\n",
       "    </tr>\n",
       "    <tr>\n",
       "      <th>149</th>\n",
       "      <td>5.1</td>\n",
       "      <td>1.8</td>\n",
       "    </tr>\n",
       "  </tbody>\n",
       "</table>\n",
       "<p>150 rows × 2 columns</p>\n",
       "</div>"
      ],
      "text/plain": [
       "     Petal_Length  Petal_Width\n",
       "0             1.4          0.2\n",
       "1             1.4          0.2\n",
       "2             1.3          0.2\n",
       "3             1.5          0.2\n",
       "4             1.4          0.2\n",
       "..            ...          ...\n",
       "145           5.2          2.3\n",
       "146           5.0          1.9\n",
       "147           5.2          2.0\n",
       "148           5.4          2.3\n",
       "149           5.1          1.8\n",
       "\n",
       "[150 rows x 2 columns]"
      ]
     },
     "execution_count": 46,
     "metadata": {},
     "output_type": "execute_result"
    }
   ],
   "source": [
    "iris[['Petal_Length', 'Petal_Width']]"
   ]
  },
  {
   "cell_type": "code",
   "execution_count": null,
   "metadata": {},
   "outputs": [],
   "source": []
  },
  {
   "cell_type": "code",
   "execution_count": 48,
   "metadata": {},
   "outputs": [
    {
     "name": "stdout",
     "output_type": "stream",
     "text": [
      "Original Series:\n",
      "a    100\n",
      "b    200\n",
      "c    300\n",
      "dtype: int64\n",
      "\n",
      "Series with Changed Index Names:\n",
      "x    100\n",
      "y    200\n",
      "z    300\n",
      "dtype: int64\n"
     ]
    }
   ],
   "source": [
    "import pandas as pd\n",
    "\n",
    "# Original Series with default index\n",
    "s = pd.Series([100, 200, 300], index=['a', 'b', 'c'])\n",
    "print(\"Original Series:\")\n",
    "print(s)\n",
    "\n",
    "# Change index names\n",
    "s.index = ['x', 'y', 'z']\n",
    "print(\"\\nSeries with Changed Index Names:\")\n",
    "print(s)\n"
   ]
  },
  {
   "cell_type": "code",
   "execution_count": null,
   "metadata": {},
   "outputs": [
    {
     "name": "stdout",
     "output_type": "stream",
     "text": [
      "\n",
      "Series with Renamed Index:\n",
      "first     100\n",
      "second    200\n",
      "third     300\n",
      "dtype: int64\n"
     ]
    }
   ],
   "source": [
    "#inplace is used to change the original series else it will create a new series\n",
    "\n",
    "s.rename(index={'x': 'first', 'y': 'second', 'z': 'third'}, inplace=True)\n",
    "print(\"\\nSeries with Renamed Index:\")\n",
    "print(s)"
   ]
  },
  {
   "cell_type": "code",
   "execution_count": 58,
   "metadata": {},
   "outputs": [
    {
     "name": "stdout",
     "output_type": "stream",
     "text": [
      "Original DataFrame:\n",
      "   A  B\n",
      "0  1  4\n",
      "1  2  5\n",
      "2  3  6\n",
      "\n",
      "DataFrame with Renamed Columns:\n",
      "   Column1  Column2\n",
      "0        1        4\n",
      "1        2        5\n",
      "2        3        6\n"
     ]
    }
   ],
   "source": [
    "import pandas as pd\n",
    "\n",
    "# Create a simple DataFrame\n",
    "df = pd.DataFrame({\n",
    "    'A': [1, 2, 3],\n",
    "    'B': [4, 5, 6]\n",
    "})\n",
    "\n",
    "print(\"Original DataFrame:\")\n",
    "print(df)\n",
    "\n",
    "# Rename columns\n",
    "df.rename(columns={'A': 'Column1', 'B': 'Column2'}, inplace=True)\n",
    "print(\"\\nDataFrame with Renamed Columns:\")\n",
    "print(df)\n"
   ]
  }
 ],
 "metadata": {
  "kernelspec": {
   "display_name": "base",
   "language": "python",
   "name": "python3"
  },
  "language_info": {
   "codemirror_mode": {
    "name": "ipython",
    "version": 3
   },
   "file_extension": ".py",
   "mimetype": "text/x-python",
   "name": "python",
   "nbconvert_exporter": "python",
   "pygments_lexer": "ipython3",
   "version": "3.12.7"
  }
 },
 "nbformat": 4,
 "nbformat_minor": 2
}
