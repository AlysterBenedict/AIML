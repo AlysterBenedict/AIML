{
 "cells": [
  {
   "cell_type": "markdown",
   "id": "db6034e7",
   "metadata": {},
   "source": [
    "### 🧹 ML Data Preprocessing\n",
    "\n",
    "Data preprocessing is a key step in building effective machine learning models. It involves preparing and transforming raw data into a clean and structured format. The main stages include:\n",
    "\n",
    "- **Data Integration**: Combining data from multiple sources (e.g., CSV files, databases, APIs) into a unified dataset for analysis.\n",
    "\n",
    "- **Data Cleaning**: Handling missing values, correcting inconsistencies, removing duplicates, and filtering out noise or outliers.\n",
    "\n",
    "- **Data Transformation**:\n",
    "  - **Encoding**: Converting categorical data into numerical format using Label Encoding or One-Hot Encoding.\n",
    "  - **Scaling**: Normalizing or standardizing features using techniques like Min-Max Scaling or Standardization.\n",
    "  - **Feature Engineering**: Creating new meaningful features or modifying existing ones to improve model performance.\n",
    "\n",
    "- **Data Reduction**: Reducing the number of features or records (e.g., via PCA or feature selection) while retaining important information.\n",
    "\n",
    "- **Data Splitting**: Dividing the dataset into training, validation, and test sets for model development and evaluation.\n",
    "\n",
    "> ✅ Proper preprocessing ensures better model performance, faster convergence, and more reliable results.\n"
   ]
  },
  {
   "cell_type": "markdown",
   "id": "19553484",
   "metadata": {},
   "source": [
    "### 🌳 Tree-like vs Non Tree-like Algorithms & Preprocessing Needs\n",
    "\n",
    "In machine learning, algorithms differ in how they handle data — particularly in how much preprocessing they require. Here's a quick overview:\n",
    "\n",
    "#### ✅ Tree-like Algorithms\n",
    "These include:\n",
    "- Decision Trees\n",
    "- Random Forests\n",
    "- Gradient Boosting (e.g., XGBoost, LightGBM, CatBoost)\n",
    "\n",
    "**Advantages**:\n",
    "- Handle both numerical and categorical data directly\n",
    "- Not sensitive to feature scaling or normalization\n",
    "- Can manage missing values (depending on implementation)\n",
    "\n",
    "**Minimal preprocessing needed**:\n",
    "- Encode categories if required (e.g., Label Encoding)\n",
    "- Handle extreme outliers only if they dominate the data\n",
    "\n",
    "---\n",
    "\n",
    "#### ⚙️ Non Tree-like Algorithms\n",
    "These include:\n",
    "- Linear/Logistic Regression\n",
    "- K-Nearest Neighbors (KNN)\n",
    "- Support Vector Machines (SVM)\n",
    "- Neural Networks\n",
    "- PCA, KMeans, etc.\n",
    "\n",
    "**Require extensive preprocessing**:\n",
    "- **Feature Scaling** (StandardScaler, MinMaxScaler)\n",
    "- **Encoding** categorical variables (One-Hot Encoding)\n",
    "- **Handling Missing Values**\n",
    "- **Dimensionality Reduction** if needed\n",
    "- **Outlier Detection** for sensitive models (like KNN, SVM)\n",
    "\n",
    "---\n",
    "\n",
    "### 📝 Summary\n",
    "\n",
    "| Algorithm Type     | Needs Scaling | Handles Categorical | Handles Missing Values |\n",
    "|--------------------|---------------|----------------------|-------------------------|\n",
    "| Tree-like          | ❌ No          | ✅ Yes (some)         | ✅ Often                |\n",
    "| Non Tree-like      | ✅ Yes         | ❌ No (needs encoding)| ❌ No                   |\n",
    "\n",
    "> 🧠 Choose preprocessing steps based on the algorithm's nature. Tree-based models are more flexible, while others need carefully prepared data.\n"
   ]
  },
  {
   "cell_type": "markdown",
   "id": "5fef17aa",
   "metadata": {},
   "source": [
    "### 📊 Continuous Scale Data vs Categorical Data\n",
    "\n",
    "In machine learning, understanding the type of data is essential for choosing the right preprocessing techniques and algorithms. The two primary types are:\n",
    "\n",
    "---\n",
    "\n",
    "#### 🔢 Continuous Scale Data\n",
    "Also known as **numerical** or **quantitative** data.\n",
    "\n",
    "- Represents **measurable quantities**\n",
    "- Values can be **ordered**, **added**, **averaged**, etc.\n",
    "- Examples:\n",
    "  - Age, Salary, Height, Temperature, Distance\n",
    "- Usually requires:\n",
    "  - **Feature scaling** (e.g., Standardization, Normalization)\n",
    "  - **Outlier detection**\n",
    "  - Sometimes **binning** or **discretization** for tree models\n",
    "\n",
    "---\n",
    "\n",
    "#### 🏷️ Categorical Data\n",
    "Also known as **qualitative** or **label** data.\n",
    "\n",
    "- Represents **categories or groups**\n",
    "- Values have no mathematical meaning or ordering (unless ordinal)\n",
    "- Types:\n",
    "  - **Nominal**: No order (e.g., Gender, Color, City)\n",
    "  - **Ordinal**: Implies order (e.g., Low, Medium, High)\n",
    "- Usually requires:\n",
    "  - **Encoding** (e.g., Label Encoding, One-Hot Encoding)\n",
    "  - **Imputation** for missing values\n",
    "  - Consideration of **cardinality** (too many unique categories can cause issues)\n",
    "\n",
    "---\n",
    "\n",
    "### 📝 Summary Table\n",
    "\n",
    "| Type              | Examples            | Operations Allowed         | Preprocessing Needed             |\n",
    "|-------------------|---------------------|-----------------------------|----------------------------------|\n",
    "| Continuous        | Age, Price, Score   | Arithmetic, Comparison      | Scaling, Outlier Handling        |\n",
    "| Categorical       | Color, City, Brand  | Grouping, Counting          | Encoding, Missing Value Handling |\n",
    "\n",
    "> 🔍 Correctly identifying and treating data types is critical to building effective ML models.\n"
   ]
  },
  {
   "cell_type": "markdown",
   "id": "d4b1ea09",
   "metadata": {},
   "source": [
    "### Checking for missing data\n"
   ]
  },
  {
   "cell_type": "code",
   "execution_count": 110,
   "id": "97e49b57",
   "metadata": {},
   "outputs": [],
   "source": [
    "import seaborn as sns"
   ]
  },
  {
   "cell_type": "code",
   "execution_count": 111,
   "id": "3d37ae38",
   "metadata": {},
   "outputs": [
    {
     "name": "stdout",
     "output_type": "stream",
     "text": [
      "deck\n",
      "C    59\n",
      "B    47\n",
      "D    33\n",
      "E    32\n",
      "A    15\n",
      "F    13\n",
      "G     4\n",
      "Name: count, dtype: int64\n"
     ]
    }
   ],
   "source": [
    "df=sns.load_dataset('titanic')\n",
    "nan_deck=df['deck'].value_counts()  ##count the number of nans in the deck column\n",
    "print(nan_deck)"
   ]
  },
  {
   "cell_type": "code",
   "execution_count": 112,
   "id": "28bc6631",
   "metadata": {},
   "outputs": [
    {
     "name": "stdout",
     "output_type": "stream",
     "text": [
      "   survived  pclass    sex    age  sibsp  parch   fare  embarked  class  \\\n",
      "0     False   False  False  False  False  False  False     False  False   \n",
      "1     False   False  False  False  False  False  False     False  False   \n",
      "2     False   False  False  False  False  False  False     False  False   \n",
      "3     False   False  False  False  False  False  False     False  False   \n",
      "4     False   False  False  False  False  False  False     False  False   \n",
      "\n",
      "     who  adult_male   deck  embark_town  alive  alone  \n",
      "0  False       False   True        False  False  False  \n",
      "1  False       False  False        False  False  False  \n",
      "2  False       False   True        False  False  False  \n",
      "3  False       False  False        False  False  False  \n",
      "4  False       False   True        False  False  False  \n"
     ]
    }
   ],
   "source": [
    "print(df.head().isnull())"
   ]
  },
  {
   "cell_type": "code",
   "execution_count": 113,
   "id": "89d0a9ec",
   "metadata": {},
   "outputs": [
    {
     "name": "stdout",
     "output_type": "stream",
     "text": [
      "   survived  pclass   sex   age  sibsp  parch  fare  embarked  class   who  \\\n",
      "0      True    True  True  True   True   True  True      True   True  True   \n",
      "1      True    True  True  True   True   True  True      True   True  True   \n",
      "2      True    True  True  True   True   True  True      True   True  True   \n",
      "3      True    True  True  True   True   True  True      True   True  True   \n",
      "4      True    True  True  True   True   True  True      True   True  True   \n",
      "\n",
      "   adult_male   deck  embark_town  alive  alone  \n",
      "0        True  False         True   True   True  \n",
      "1        True   True         True   True   True  \n",
      "2        True  False         True   True   True  \n",
      "3        True   True         True   True   True  \n",
      "4        True  False         True   True   True  \n"
     ]
    }
   ],
   "source": [
    "print(df.head().notnull())"
   ]
  },
  {
   "cell_type": "markdown",
   "id": "ee3abd61",
   "metadata": {},
   "source": [
    "##✅ TL;DR:\n",
    "axis=0 → operate down the rows → affects rows\n",
    "\n",
    "axis=1 → operate across the columns → affects columns"
   ]
  },
  {
   "cell_type": "code",
   "execution_count": 114,
   "id": "3a67404a",
   "metadata": {},
   "outputs": [
    {
     "name": "stdout",
     "output_type": "stream",
     "text": [
      "survived       0\n",
      "pclass         0\n",
      "sex            0\n",
      "age            0\n",
      "sibsp          0\n",
      "parch          0\n",
      "fare           0\n",
      "embarked       0\n",
      "class          0\n",
      "who            0\n",
      "adult_male     0\n",
      "deck           3\n",
      "embark_town    0\n",
      "alive          0\n",
      "alone          0\n",
      "dtype: int64\n"
     ]
    }
   ],
   "source": [
    "#calculating the number of missing data using the isnull() method\n",
    "print(df.head().isnull().sum(axis=0))"
   ]
  },
  {
   "cell_type": "code",
   "execution_count": 115,
   "id": "6ea1a7a3",
   "metadata": {},
   "outputs": [
    {
     "data": {
      "text/html": [
       "<div>\n",
       "<style scoped>\n",
       "    .dataframe tbody tr th:only-of-type {\n",
       "        vertical-align: middle;\n",
       "    }\n",
       "\n",
       "    .dataframe tbody tr th {\n",
       "        vertical-align: top;\n",
       "    }\n",
       "\n",
       "    .dataframe thead th {\n",
       "        text-align: right;\n",
       "    }\n",
       "</style>\n",
       "<table border=\"1\" class=\"dataframe\">\n",
       "  <thead>\n",
       "    <tr style=\"text-align: right;\">\n",
       "      <th></th>\n",
       "      <th>survived</th>\n",
       "      <th>pclass</th>\n",
       "      <th>sex</th>\n",
       "      <th>age</th>\n",
       "      <th>sibsp</th>\n",
       "      <th>parch</th>\n",
       "      <th>fare</th>\n",
       "      <th>embarked</th>\n",
       "      <th>class</th>\n",
       "      <th>who</th>\n",
       "      <th>adult_male</th>\n",
       "      <th>embark_town</th>\n",
       "      <th>alive</th>\n",
       "      <th>alone</th>\n",
       "    </tr>\n",
       "  </thead>\n",
       "  <tbody>\n",
       "    <tr>\n",
       "      <th>0</th>\n",
       "      <td>0</td>\n",
       "      <td>3</td>\n",
       "      <td>male</td>\n",
       "      <td>22.0</td>\n",
       "      <td>1</td>\n",
       "      <td>0</td>\n",
       "      <td>7.2500</td>\n",
       "      <td>S</td>\n",
       "      <td>Third</td>\n",
       "      <td>man</td>\n",
       "      <td>True</td>\n",
       "      <td>Southampton</td>\n",
       "      <td>no</td>\n",
       "      <td>False</td>\n",
       "    </tr>\n",
       "    <tr>\n",
       "      <th>1</th>\n",
       "      <td>1</td>\n",
       "      <td>1</td>\n",
       "      <td>female</td>\n",
       "      <td>38.0</td>\n",
       "      <td>1</td>\n",
       "      <td>0</td>\n",
       "      <td>71.2833</td>\n",
       "      <td>C</td>\n",
       "      <td>First</td>\n",
       "      <td>woman</td>\n",
       "      <td>False</td>\n",
       "      <td>Cherbourg</td>\n",
       "      <td>yes</td>\n",
       "      <td>False</td>\n",
       "    </tr>\n",
       "    <tr>\n",
       "      <th>2</th>\n",
       "      <td>1</td>\n",
       "      <td>3</td>\n",
       "      <td>female</td>\n",
       "      <td>26.0</td>\n",
       "      <td>0</td>\n",
       "      <td>0</td>\n",
       "      <td>7.9250</td>\n",
       "      <td>S</td>\n",
       "      <td>Third</td>\n",
       "      <td>woman</td>\n",
       "      <td>False</td>\n",
       "      <td>Southampton</td>\n",
       "      <td>yes</td>\n",
       "      <td>True</td>\n",
       "    </tr>\n",
       "    <tr>\n",
       "      <th>3</th>\n",
       "      <td>1</td>\n",
       "      <td>1</td>\n",
       "      <td>female</td>\n",
       "      <td>35.0</td>\n",
       "      <td>1</td>\n",
       "      <td>0</td>\n",
       "      <td>53.1000</td>\n",
       "      <td>S</td>\n",
       "      <td>First</td>\n",
       "      <td>woman</td>\n",
       "      <td>False</td>\n",
       "      <td>Southampton</td>\n",
       "      <td>yes</td>\n",
       "      <td>False</td>\n",
       "    </tr>\n",
       "    <tr>\n",
       "      <th>4</th>\n",
       "      <td>0</td>\n",
       "      <td>3</td>\n",
       "      <td>male</td>\n",
       "      <td>35.0</td>\n",
       "      <td>0</td>\n",
       "      <td>0</td>\n",
       "      <td>8.0500</td>\n",
       "      <td>S</td>\n",
       "      <td>Third</td>\n",
       "      <td>man</td>\n",
       "      <td>True</td>\n",
       "      <td>Southampton</td>\n",
       "      <td>no</td>\n",
       "      <td>True</td>\n",
       "    </tr>\n",
       "    <tr>\n",
       "      <th>...</th>\n",
       "      <td>...</td>\n",
       "      <td>...</td>\n",
       "      <td>...</td>\n",
       "      <td>...</td>\n",
       "      <td>...</td>\n",
       "      <td>...</td>\n",
       "      <td>...</td>\n",
       "      <td>...</td>\n",
       "      <td>...</td>\n",
       "      <td>...</td>\n",
       "      <td>...</td>\n",
       "      <td>...</td>\n",
       "      <td>...</td>\n",
       "      <td>...</td>\n",
       "    </tr>\n",
       "    <tr>\n",
       "      <th>886</th>\n",
       "      <td>0</td>\n",
       "      <td>2</td>\n",
       "      <td>male</td>\n",
       "      <td>27.0</td>\n",
       "      <td>0</td>\n",
       "      <td>0</td>\n",
       "      <td>13.0000</td>\n",
       "      <td>S</td>\n",
       "      <td>Second</td>\n",
       "      <td>man</td>\n",
       "      <td>True</td>\n",
       "      <td>Southampton</td>\n",
       "      <td>no</td>\n",
       "      <td>True</td>\n",
       "    </tr>\n",
       "    <tr>\n",
       "      <th>887</th>\n",
       "      <td>1</td>\n",
       "      <td>1</td>\n",
       "      <td>female</td>\n",
       "      <td>19.0</td>\n",
       "      <td>0</td>\n",
       "      <td>0</td>\n",
       "      <td>30.0000</td>\n",
       "      <td>S</td>\n",
       "      <td>First</td>\n",
       "      <td>woman</td>\n",
       "      <td>False</td>\n",
       "      <td>Southampton</td>\n",
       "      <td>yes</td>\n",
       "      <td>True</td>\n",
       "    </tr>\n",
       "    <tr>\n",
       "      <th>888</th>\n",
       "      <td>0</td>\n",
       "      <td>3</td>\n",
       "      <td>female</td>\n",
       "      <td>NaN</td>\n",
       "      <td>1</td>\n",
       "      <td>2</td>\n",
       "      <td>23.4500</td>\n",
       "      <td>S</td>\n",
       "      <td>Third</td>\n",
       "      <td>woman</td>\n",
       "      <td>False</td>\n",
       "      <td>Southampton</td>\n",
       "      <td>no</td>\n",
       "      <td>False</td>\n",
       "    </tr>\n",
       "    <tr>\n",
       "      <th>889</th>\n",
       "      <td>1</td>\n",
       "      <td>1</td>\n",
       "      <td>male</td>\n",
       "      <td>26.0</td>\n",
       "      <td>0</td>\n",
       "      <td>0</td>\n",
       "      <td>30.0000</td>\n",
       "      <td>C</td>\n",
       "      <td>First</td>\n",
       "      <td>man</td>\n",
       "      <td>True</td>\n",
       "      <td>Cherbourg</td>\n",
       "      <td>yes</td>\n",
       "      <td>True</td>\n",
       "    </tr>\n",
       "    <tr>\n",
       "      <th>890</th>\n",
       "      <td>0</td>\n",
       "      <td>3</td>\n",
       "      <td>male</td>\n",
       "      <td>32.0</td>\n",
       "      <td>0</td>\n",
       "      <td>0</td>\n",
       "      <td>7.7500</td>\n",
       "      <td>Q</td>\n",
       "      <td>Third</td>\n",
       "      <td>man</td>\n",
       "      <td>True</td>\n",
       "      <td>Queenstown</td>\n",
       "      <td>no</td>\n",
       "      <td>True</td>\n",
       "    </tr>\n",
       "  </tbody>\n",
       "</table>\n",
       "<p>891 rows × 14 columns</p>\n",
       "</div>"
      ],
      "text/plain": [
       "     survived  pclass     sex   age  sibsp  parch     fare embarked   class  \\\n",
       "0           0       3    male  22.0      1      0   7.2500        S   Third   \n",
       "1           1       1  female  38.0      1      0  71.2833        C   First   \n",
       "2           1       3  female  26.0      0      0   7.9250        S   Third   \n",
       "3           1       1  female  35.0      1      0  53.1000        S   First   \n",
       "4           0       3    male  35.0      0      0   8.0500        S   Third   \n",
       "..        ...     ...     ...   ...    ...    ...      ...      ...     ...   \n",
       "886         0       2    male  27.0      0      0  13.0000        S  Second   \n",
       "887         1       1  female  19.0      0      0  30.0000        S   First   \n",
       "888         0       3  female   NaN      1      2  23.4500        S   Third   \n",
       "889         1       1    male  26.0      0      0  30.0000        C   First   \n",
       "890         0       3    male  32.0      0      0   7.7500        Q   Third   \n",
       "\n",
       "       who  adult_male  embark_town alive  alone  \n",
       "0      man        True  Southampton    no  False  \n",
       "1    woman       False    Cherbourg   yes  False  \n",
       "2    woman       False  Southampton   yes   True  \n",
       "3    woman       False  Southampton   yes  False  \n",
       "4      man        True  Southampton    no   True  \n",
       "..     ...         ...          ...   ...    ...  \n",
       "886    man        True  Southampton    no   True  \n",
       "887  woman       False  Southampton   yes   True  \n",
       "888  woman       False  Southampton    no  False  \n",
       "889    man        True    Cherbourg   yes   True  \n",
       "890    man        True   Queenstown    no   True  \n",
       "\n",
       "[891 rows x 14 columns]"
      ]
     },
     "execution_count": 115,
     "metadata": {},
     "output_type": "execute_result"
    }
   ],
   "source": [
    "df_tresh=df.dropna(axis=1,thresh=500)\n",
    "df_tresh  ##deck column is eliminated"
   ]
  },
  {
   "cell_type": "code",
   "execution_count": 116,
   "id": "cd178f19",
   "metadata": {},
   "outputs": [
    {
     "data": {
      "text/plain": [
       "Index(['survived', 'pclass', 'sex', 'age', 'sibsp', 'parch', 'fare',\n",
       "       'embarked', 'class', 'who', 'adult_male', 'embark_town', 'alive',\n",
       "       'alone'],\n",
       "      dtype='object')"
      ]
     },
     "execution_count": 116,
     "metadata": {},
     "output_type": "execute_result"
    }
   ],
   "source": [
    "df_tresh.columns"
   ]
  },
  {
   "cell_type": "code",
   "execution_count": 117,
   "id": "4594187a",
   "metadata": {},
   "outputs": [
    {
     "name": "stdout",
     "output_type": "stream",
     "text": [
      "714\n"
     ]
    }
   ],
   "source": [
    "df_age=df.dropna(subset=['age'],how='any',axis=0)\n",
    "print(len(df_age))"
   ]
  },
  {
   "cell_type": "code",
   "execution_count": 118,
   "id": "bab033d0",
   "metadata": {},
   "outputs": [
    {
     "data": {
      "text/plain": [
       "891"
      ]
     },
     "execution_count": 118,
     "metadata": {},
     "output_type": "execute_result"
    }
   ],
   "source": [
    "len(df)"
   ]
  },
  {
   "cell_type": "markdown",
   "id": "8330d74e",
   "metadata": {},
   "source": [
    "### Replacing missing values"
   ]
  },
  {
   "cell_type": "code",
   "execution_count": 119,
   "id": "8dc09d54",
   "metadata": {},
   "outputs": [
    {
     "name": "stdout",
     "output_type": "stream",
     "text": [
      "mean : 29.69911764705882\n",
      "\n",
      "0    22.000000\n",
      "1    38.000000\n",
      "2    26.000000\n",
      "3    35.000000\n",
      "4    35.000000\n",
      "5    29.699118\n",
      "6    54.000000\n",
      "7     2.000000\n",
      "8    27.000000\n",
      "9    14.000000\n",
      "Name: age, dtype: float64\n"
     ]
    },
    {
     "name": "stderr",
     "output_type": "stream",
     "text": [
      "C:\\Users\\bened\\AppData\\Local\\Temp\\ipykernel_7824\\1916238344.py:2: FutureWarning: A value is trying to be set on a copy of a DataFrame or Series through chained assignment using an inplace method.\n",
      "The behavior will change in pandas 3.0. This inplace method will never work because the intermediate object on which we are setting values always behaves as a copy.\n",
      "\n",
      "For example, when doing 'df[col].method(value, inplace=True)', try using 'df.method({col: value}, inplace=True)' or df[col] = df[col].method(value) instead, to perform the operation inplace on the original object.\n",
      "\n",
      "\n",
      "  df['age'].fillna(mean_age,inplace=True)\n"
     ]
    }
   ],
   "source": [
    "mean_age=df['age'].mean(axis=0)\n",
    "df['age'].fillna(mean_age,inplace=True)\n",
    "\n",
    "print(f'mean : {mean_age}')\n",
    "print()\n",
    "print(df['age'].head(10))"
   ]
  },
  {
   "cell_type": "markdown",
   "id": "164933ca",
   "metadata": {},
   "source": [
    "## replacing NaN with most frequent city in embark_town"
   ]
  },
  {
   "cell_type": "code",
   "execution_count": 120,
   "id": "fedf3d55",
   "metadata": {},
   "outputs": [
    {
     "name": "stdout",
     "output_type": "stream",
     "text": [
      "825     Queenstown\n",
      "826    Southampton\n",
      "827      Cherbourg\n",
      "828     Queenstown\n",
      "829            NaN\n",
      "Name: embark_town, dtype: object\n",
      "\n",
      "\n",
      "Southampton\n"
     ]
    }
   ],
   "source": [
    "df=sns.load_dataset('titanic')\n",
    "print(df['embark_town'][825:830])\n",
    "print('\\n')\n",
    "\n",
    "\n",
    "msot_freq=df['embark_town'].value_counts(dropna=True).idxmax()\n",
    "print(msot_freq)"
   ]
  },
  {
   "attachments": {
    "image.png": {
     "image/png": "[encoded data removed]"
    }
   },
   "cell_type": "markdown",
   "id": "d14dd027",
   "metadata": {},
   "source": [
    "![image.png](attachment:image.png)"
   ]
  },
  {
   "cell_type": "code",
   "execution_count": 121,
   "id": "c09b07bb",
   "metadata": {},
   "outputs": [
    {
     "data": {
      "text/plain": [
       "embark_town\n",
       "False    889\n",
       "True       2\n",
       "Name: count, dtype: int64"
      ]
     },
     "execution_count": 121,
     "metadata": {},
     "output_type": "execute_result"
    }
   ],
   "source": [
    "nan=df['embark_town'].isnull().value_counts(dropna=False)\n",
    "nan"
   ]
  },
  {
   "cell_type": "code",
   "execution_count": 122,
   "id": "85d17b88",
   "metadata": {},
   "outputs": [
    {
     "name": "stderr",
     "output_type": "stream",
     "text": [
      "C:\\Users\\bened\\AppData\\Local\\Temp\\ipykernel_7824\\3643091787.py:1: FutureWarning: A value is trying to be set on a copy of a DataFrame or Series through chained assignment using an inplace method.\n",
      "The behavior will change in pandas 3.0. This inplace method will never work because the intermediate object on which we are setting values always behaves as a copy.\n",
      "\n",
      "For example, when doing 'df[col].method(value, inplace=True)', try using 'df.method({col: value}, inplace=True)' or df[col] = df[col].method(value) instead, to perform the operation inplace on the original object.\n",
      "\n",
      "\n",
      "  df['embark_town'].fillna(msot_freq,inplace=True)\n"
     ]
    }
   ],
   "source": [
    "df['embark_town'].fillna(msot_freq,inplace=True)\n"
   ]
  },
  {
   "cell_type": "code",
   "execution_count": 123,
   "id": "70c2921d",
   "metadata": {},
   "outputs": [
    {
     "data": {
      "text/plain": [
       "embark_town\n",
       "False    891\n",
       "Name: count, dtype: int64"
      ]
     },
     "execution_count": 123,
     "metadata": {},
     "output_type": "execute_result"
    }
   ],
   "source": [
    "#every NaN is replaced with southampton\n",
    "\n",
    "nan=df['embark_town'].isnull().value_counts(dropna=False)\n",
    "nan"
   ]
  },
  {
   "cell_type": "code",
   "execution_count": 124,
   "id": "03fcf297",
   "metadata": {},
   "outputs": [
    {
     "data": {
      "text/plain": [
       "825     Queenstown\n",
       "826    Southampton\n",
       "827      Cherbourg\n",
       "828     Queenstown\n",
       "829    Southampton\n",
       "Name: embark_town, dtype: object"
      ]
     },
     "execution_count": 124,
     "metadata": {},
     "output_type": "execute_result"
    }
   ],
   "source": [
    "df['embark_town'][825:830]"
   ]
  },
  {
   "cell_type": "markdown",
   "id": "d8a196c6",
   "metadata": {},
   "source": [
    "to change the value of NaN to the immediate preceding value of the row"
   ]
  },
  {
   "cell_type": "code",
   "execution_count": 125,
   "id": "a5919c8e",
   "metadata": {},
   "outputs": [
    {
     "name": "stderr",
     "output_type": "stream",
     "text": [
      "C:\\Users\\bened\\AppData\\Local\\Temp\\ipykernel_7824\\3919240763.py:1: FutureWarning: A value is trying to be set on a copy of a DataFrame or Series through chained assignment using an inplace method.\n",
      "The behavior will change in pandas 3.0. This inplace method will never work because the intermediate object on which we are setting values always behaves as a copy.\n",
      "\n",
      "For example, when doing 'df[col].method(value, inplace=True)', try using 'df.method({col: value}, inplace=True)' or df[col] = df[col].method(value) instead, to perform the operation inplace on the original object.\n",
      "\n",
      "\n",
      "  df['embark_town'].fillna(method='ffill',inplace=True)\n",
      "C:\\Users\\bened\\AppData\\Local\\Temp\\ipykernel_7824\\3919240763.py:1: FutureWarning: Series.fillna with 'method' is deprecated and will raise in a future version. Use obj.ffill() or obj.bfill() instead.\n",
      "  df['embark_town'].fillna(method='ffill',inplace=True)\n"
     ]
    }
   ],
   "source": [
    "df['embark_town'].fillna(method='ffill',inplace=True)\n"
   ]
  },
  {
   "cell_type": "code",
   "execution_count": 126,
   "id": "db1e45e6",
   "metadata": {},
   "outputs": [
    {
     "data": {
      "text/plain": [
       "825     Queenstown\n",
       "826    Southampton\n",
       "827      Cherbourg\n",
       "828     Queenstown\n",
       "829    Southampton\n",
       "Name: embark_town, dtype: object"
      ]
     },
     "execution_count": 126,
     "metadata": {},
     "output_type": "execute_result"
    }
   ],
   "source": [
    "df['embark_town'][825:830]"
   ]
  }
 ],
 "metadata": {
  "kernelspec": {
   "display_name": "base",
   "language": "python",
   "name": "python3"
  },
  "language_info": {
   "codemirror_mode": {
    "name": "ipython",
    "version": 3
   },
   "file_extension": ".py",
   "mimetype": "text/x-python",
   "name": "python",
   "nbconvert_exporter": "python",
   "pygments_lexer": "ipython3",
   "version": "3.12.7"
  }
 },
 "nbformat": 4,
 "nbformat_minor": 5
}
