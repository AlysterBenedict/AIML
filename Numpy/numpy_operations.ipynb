{
 "cells": [
  {
   "cell_type": "code",
   "execution_count": 20,
   "metadata": {},
   "outputs": [],
   "source": [
    "#numpy is implemented in C, so it is faster than python\n",
    "#numpy uses vectorization, which is a way to compute operations on entire arrays instead of individual elements\n",
    "#numpy does not use loops, so it is faster than python\n",
    "#numpy is used for numerical operations and data analysis\n",
    "#numpy is used for linear algebra, fourier transform, and random number capabilities\n",
    "#numpy is used for operations on arrays and matrices\n",
    "#numpy is used for operations on multidimensional arrays\n",
    "#this is the reason why machine learning libraries are implemented in NumPy"
   ]
  },
  {
   "cell_type": "code",
   "execution_count": 1,
   "metadata": {},
   "outputs": [
    {
     "name": "stdout",
     "output_type": "stream",
     "text": [
      "[1, 2, 3, 4, 5, 6]\n",
      "\n",
      "[5 7 9]\n"
     ]
    }
   ],
   "source": [
    "#comparing '+' operator in python and numpy\n",
    "import numpy as np\n",
    "\n",
    "a=[1,2,3]\n",
    "b=[4,5,6]\n",
    "print(a+b)\n",
    "#in the list, '+' operator concatenates the two lists\n",
    "print()\n",
    "\n",
    "#arithmetic operations are applied to individual elements in the array\n",
    "a=np.array([1,2,3])\n",
    "b=np.array([4,5,6])\n",
    "print(a+b)\n",
    "#in the numpy array, '+' operator adds the two arrays element-wise"
   ]
  },
  {
   "cell_type": "code",
   "execution_count": 2,
   "metadata": {},
   "outputs": [
    {
     "name": "stdout",
     "output_type": "stream",
     "text": [
      "[-3 -3 -3]\n",
      "[5 7 9]\n",
      "[ 4 10 18]\n",
      "[0.25 0.4  0.5 ]\n",
      "[1 2 3]\n",
      "[  1  32 729]\n"
     ]
    }
   ],
   "source": [
    "#VARIOUS AIRTHMETIC OPERATIONS(ADDITION, SUBTRACTION, MULTIPLICATION, DIVISION, MODULUS, EXPONENTIATION)\n",
    "#Condition- both arrays should have same shape\n",
    "print(a-b)\n",
    "print(a+b)\n",
    "print(a*b)\n",
    "print(a/b)\n",
    "print(a%b)\n",
    "print(a**b)"
   ]
  },
  {
   "cell_type": "code",
   "execution_count": 3,
   "metadata": {},
   "outputs": [
    {
     "name": "stdout",
     "output_type": "stream",
     "text": [
      "[3 6 9]\n",
      "[3 6 9]\n"
     ]
    }
   ],
   "source": [
    "#comparing list and numpy array multiplication\n",
    "a1=[1,2,3]\n",
    "print(a*3) # repeat the list 3 times\n",
    "\n",
    "\n",
    "a2=np.array([1,2,3])\n",
    "a2=a2*3  # multiply each element by 3\n",
    "print(a2)"
   ]
  },
  {
   "cell_type": "code",
   "execution_count": 4,
   "metadata": {},
   "outputs": [
    {
     "name": "stdout",
     "output_type": "stream",
     "text": [
      "[1 1 1 2 2 2 3 3 3]\n",
      "\n",
      "[1 2 3 1 2 3 1 2 3]\n",
      "\n",
      "[[2 4 6 2 4 6 2 4 6]\n",
      " [7 3 2 7 3 2 7 3 2]\n",
      " [5 7 2 5 7 2 5 7 2]]\n"
     ]
    }
   ],
   "source": [
    "#Repeat and Tile(Functions)\n",
    "#Repeat- repeat the indivdual elements of whole array one by one\n",
    "#Tile- repeat the array along the specified axis\n",
    "arr1=np.array([1,2,3])\n",
    "arr2=np.repeat(arr1,3)\n",
    "print(arr2)\n",
    "\n",
    "print()\n",
    "\n",
    "arr3=np.tile(arr1,3)\n",
    "print(arr3)\n",
    "\n",
    "print()\n",
    "#can also be repeated in two dimentional form\n",
    "arr4=np.random.randint(1,10,(3,3))\n",
    "arr5=np.tile(arr4,3)\n",
    "print(arr5)"
   ]
  },
  {
   "cell_type": "code",
   "execution_count": 5,
   "metadata": {},
   "outputs": [
    {
     "name": "stdout",
     "output_type": "stream",
     "text": [
      "[ True False False]\n"
     ]
    }
   ],
   "source": [
    "#COMPARISON OPERATORS(returns a boolean array)\n",
    "arr6=np.array([1,2,3])\n",
    "print(arr6<2)"
   ]
  },
  {
   "cell_type": "code",
   "execution_count": 6,
   "metadata": {},
   "outputs": [
    {
     "name": "stdout",
     "output_type": "stream",
     "text": [
      "Square roots of [1 2 3]: [1.         1.41421356 1.73205081]\n",
      "Exponential (e^x) of [1 2 3]: [ 2.71828183  7.3890561  20.08553692]\n",
      "Natural log (ln) of [1 2 3]: [0.         0.69314718 1.09861229]\n",
      "Sine of [1 2 3] (radians): [0.84147098 0.90929743 0.14112001]\n",
      "Cosine of [1 2 3] (radians): [ 0.54030231 -0.41614684 -0.9899925 ]\n",
      "Tangent of [1 2 3] (radians): [ 1.55740772 -2.18503986 -0.14254654]\n",
      "Arc sine (inverse sine) of [1 2 3]: [1.57079633        nan        nan]\n",
      "Arc cosine (inverse cosine) of [1 2 3]: [ 0. nan nan]\n",
      "Arc tangent (inverse tangent) of [1 2 3]: [0.78539816 1.10714872 1.24904577]\n",
      "Hyperbolic sine of [1 2 3]: [ 1.17520119  3.62686041 10.01787493]\n",
      "Hyperbolic cosine of [1 2 3]: [ 1.54308063  3.76219569 10.067662  ]\n",
      "Hyperbolic tangent of [1 2 3]: [0.76159416 0.96402758 0.99505475]\n",
      "Inverse hyperbolic sine of [1 2 3]: [0.88137359 1.44363548 1.81844646]\n",
      "Inverse hyperbolic cosine of [1 2 3]: [0.         1.3169579  1.76274717]\n",
      "Inverse hyperbolic tangent of [1 2 3]: [inf nan nan]\n",
      "Rounded values of [1 2 3]: [1 2 3]\n",
      "Floor values (round down) of [1 2 3]: [1. 2. 3.]\n",
      "Ceiling values (round up) of [1 2 3]: [1. 2. 3.]\n",
      "Absolute values of [1 2 3]: [1 2 3]\n"
     ]
    },
    {
     "name": "stderr",
     "output_type": "stream",
     "text": [
      "C:\\Users\\bened\\AppData\\Local\\Temp\\ipykernel_28936\\1355882767.py:11: RuntimeWarning: invalid value encountered in arcsin\n",
      "  print(f\"Arc sine (inverse sine) of {arr7}: {np.arcsin(arr7)}\")  # Inverse sine (result in radians)\n",
      "C:\\Users\\bened\\AppData\\Local\\Temp\\ipykernel_28936\\1355882767.py:12: RuntimeWarning: invalid value encountered in arccos\n",
      "  print(f\"Arc cosine (inverse cosine) of {arr7}: {np.arccos(arr7)}\")  # Inverse cosine (result in radians)\n",
      "C:\\Users\\bened\\AppData\\Local\\Temp\\ipykernel_28936\\1355882767.py:19: RuntimeWarning: divide by zero encountered in arctanh\n",
      "  print(f\"Inverse hyperbolic tangent of {arr7}: {np.arctanh(arr7)}\")  # Inverse hyperbolic tangent\n",
      "C:\\Users\\bened\\AppData\\Local\\Temp\\ipykernel_28936\\1355882767.py:19: RuntimeWarning: invalid value encountered in arctanh\n",
      "  print(f\"Inverse hyperbolic tangent of {arr7}: {np.arctanh(arr7)}\")  # Inverse hyperbolic tangent\n"
     ]
    }
   ],
   "source": [
    "#universal functions operate element-wise on the array\n",
    "\n",
    "arr7 = np.array([1, 2, 3])\n",
    "\n",
    "print(f\"Square roots of {arr7}: {np.sqrt(arr7)}\")  # Square root of each element\n",
    "print(f\"Exponential (e^x) of {arr7}: {np.exp(arr7)}\")  # e raised to the power of each element\n",
    "print(f\"Natural log (ln) of {arr7}: {np.log(arr7)}\")  # Natural logarithm of each element\n",
    "print(f\"Sine of {arr7} (radians): {np.sin(arr7)}\")  # Sine of each element (in radians)\n",
    "print(f\"Cosine of {arr7} (radians): {np.cos(arr7)}\")  # Cosine of each element (in radians)\n",
    "print(f\"Tangent of {arr7} (radians): {np.tan(arr7)}\")  # Tangent of each element (in radians)\n",
    "print(f\"Arc sine (inverse sine) of {arr7}: {np.arcsin(arr7)}\")  # Inverse sine (result in radians)\n",
    "print(f\"Arc cosine (inverse cosine) of {arr7}: {np.arccos(arr7)}\")  # Inverse cosine (result in radians)\n",
    "print(f\"Arc tangent (inverse tangent) of {arr7}: {np.arctan(arr7)}\")  # Inverse tangent (result in radians)\n",
    "print(f\"Hyperbolic sine of {arr7}: {np.sinh(arr7)}\")  # Hyperbolic sine of each element\n",
    "print(f\"Hyperbolic cosine of {arr7}: {np.cosh(arr7)}\")  # Hyperbolic cosine of each element\n",
    "print(f\"Hyperbolic tangent of {arr7}: {np.tanh(arr7)}\")  # Hyperbolic tangent of each element\n",
    "print(f\"Inverse hyperbolic sine of {arr7}: {np.arcsinh(arr7)}\")  # Inverse hyperbolic sine\n",
    "print(f\"Inverse hyperbolic cosine of {arr7}: {np.arccosh(arr7)}\")  # Inverse hyperbolic cosine\n",
    "print(f\"Inverse hyperbolic tangent of {arr7}: {np.arctanh(arr7)}\")  # Inverse hyperbolic tangent\n",
    "print(f\"Rounded values of {arr7}: {np.round(arr7)}\")  # Rounds each element to the nearest integer\n",
    "print(f\"Floor values (round down) of {arr7}: {np.floor(arr7)}\")  # Rounds down to the previous integer\n",
    "print(f\"Ceiling values (round up) of {arr7}: {np.ceil(arr7)}\")  # Rounds up to the next integer\n",
    "print(f\"Absolute values of {arr7}: {np.abs(arr7)}\")  # Absolute value of each element"
   ]
  },
  {
   "cell_type": "code",
   "execution_count": 7,
   "metadata": {},
   "outputs": [
    {
     "name": "stdout",
     "output_type": "stream",
     "text": [
      "Sum of all elements in [1 2 3 4 5 6]: 21\n",
      "Minimum element in [1 2 3 4 5 6]: 1\n",
      "Maximum element in [1 2 3 4 5 6]: 6\n",
      "Variance of all elements in [1 2 3 4 5 6]: 2.9166666666666665\n",
      "Product of all elements in [1 2 3 4 5 6]: 720\n",
      "Cumulative sum of all elements in [1 2 3 4 5 6]: [ 1  3  6 10 15 21]\n",
      "Cumulative product of all elements in [1 2 3 4 5 6]: [  1   2   6  24 120 720]\n",
      "Unique elements in [1 2 3 4 5 6]: [1 2 3 4 5 6]\n",
      "Mean of all elements in [1 2 3 4 5 6]: 3.5\n",
      "Median of all elements in [1 2 3 4 5 6]: 3.5\n",
      "Standard deviation of all elements in [1 2 3 4 5 6]: 1.707825127659933\n",
      "Index of maximum element in [1 2 3 4 5 6]: 5\n",
      "Index of minimum element in [1 2 3 4 5 6]: 0\n"
     ]
    }
   ],
   "source": [
    "#non universal functions  (returns single answer and not an array)\n",
    "\n",
    "\n",
    "arr8 = np.array([1, 2, 3, 4, 5, 6])\n",
    "\n",
    "print(f\"Sum of all elements in {arr8}: {np.sum(arr8)}\")  # Adds up all elements\n",
    "print(f\"Minimum element in {arr8}: {np.min(arr8)}\")  # Finds the smallest element\n",
    "print(f\"Maximum element in {arr8}: {np.max(arr8)}\")  # Finds the largest element\n",
    "print(f\"Variance of all elements in {arr8}: {np.var(arr8)}\")  # Measures how spread out the elements are\n",
    "print(f\"Product of all elements in {arr8}: {np.prod(arr8)}\")  # Multiplies all elements together\n",
    "print(f\"Cumulative sum of all elements in {arr8}: {np.cumsum(arr8)}\")  # Running sum at each position\n",
    "print(f\"Cumulative product of all elements in {arr8}: {np.cumprod(arr8)}\")  # Running product at each position\n",
    "print(f\"Unique elements in {arr8}: {np.unique(arr8)}\")  # Lists distinct elements (no duplicates)\n",
    "\n",
    "print(f\"Mean of all elements in {arr8}: {np.mean(arr8)}\")  # Average of all elements\n",
    "print(f\"Median of all elements in {arr8}: {np.median(arr8)}\")  # Middle value when sorted\n",
    "print(f\"Standard deviation of all elements in {arr8}: {np.std(arr8)}\")  # Spread of elements from the mean\n",
    "print(f\"Index of maximum element in {arr8}: {np.argmax(arr8)}\")  # Position of the largest element\n",
    "print(f\"Index of minimum element in {arr8}: {np.argmin(arr8)}\")  # Position of the smallest element\n"
   ]
  },
  {
   "cell_type": "markdown",
   "metadata": {},
   "source": [
    "Statistical Methods()"
   ]
  },
  {
   "cell_type": "code",
   "execution_count": 8,
   "metadata": {},
   "outputs": [
    {
     "name": "stdout",
     "output_type": "stream",
     "text": [
      "3.5\n",
      "1.707825127659933\n",
      "2.9166666666666665\n",
      "1\n",
      "6\n",
      "[ 1  3  6 10 15 21]\n"
     ]
    }
   ],
   "source": [
    "#Statistical methods( USED ON A instance of numpy array(nd array object))\n",
    "\n",
    "\n",
    "#x.mean() - returns the mean of the array\n",
    "#x.std() - returns the standard deviation of the array\n",
    "#x.var() - returns the variance of the array\n",
    "#x.min() - returns the minimum value of the array\n",
    "#x.max() - returns the maximum value of the array\n",
    "#x.sum() - returns the sum of the array\n",
    "#x.prod() - returns the product of the array\n",
    "#x.cumsum() - returns the cumulative sum of the array\n",
    "#x.cumprod() - returns the cumulative product of the array\n",
    "#x.argmin() - returns the index of the minimum value of the array\n",
    "#x.argmax() - returns the index of the maximum value of the array\n",
    "\n",
    "x=np.array([1,2,3,4,5,6])\n",
    "print(x.mean())\n",
    "\n",
    "print(x.std())\n",
    "print(x.var())\n",
    "print(x.min())\n",
    "print(x.max())\n",
    "print(x.cumsum())"
   ]
  },
  {
   "cell_type": "code",
   "execution_count": 9,
   "metadata": {},
   "outputs": [
    {
     "name": "stdout",
     "output_type": "stream",
     "text": [
      "[1 2 3 4 5 6]\n",
      "[[1 2 3]\n",
      " [4 5 6]]\n",
      "\n",
      "[[1]\n",
      " [2]\n",
      " [3]\n",
      " [4]\n",
      " [5]\n",
      " [6]]\n"
     ]
    }
   ],
   "source": [
    "#Reshaping the array\n",
    "\n",
    "x=np.arange(1,7)\n",
    "print(x)\n",
    "\n",
    "#specifying rows and columns\n",
    "print(x.reshape(2,3))\n",
    "print()\n",
    "\n",
    "\n",
    "#Specfying only the row or the column\n",
    "print(x.reshape(-1,1))"
   ]
  },
  {
   "cell_type": "code",
   "execution_count": 10,
   "metadata": {},
   "outputs": [
    {
     "name": "stdout",
     "output_type": "stream",
     "text": [
      "[2. 5.]\n",
      "[2.5 3.5 4.5]\n"
     ]
    }
   ],
   "source": [
    "#Statistical methods for each row or each column\n",
    "#axis=0: The function is applied down each column (i.e., it computes a statistic for each column by combining values from each row).\n",
    "#axis=1: The function is applied across each row (i.e., it computes a statistic for each row by combining values from each column).\n",
    "\n",
    "x=x.reshape(2,3)\n",
    "print(x.mean(axis=1))# row mean\n",
    "\n",
    "print(x.mean(axis=0)) # column mean"
   ]
  },
  {
   "cell_type": "code",
   "execution_count": 11,
   "metadata": {},
   "outputs": [
    {
     "name": "stdout",
     "output_type": "stream",
     "text": [
      "Random numbers with seed 123: [0.69646919 0.28613933 0.22685145 0.55131477 0.71946897]\n",
      "Random numbers with seed 123 (again): [0.69646919 0.28613933 0.22685145 0.55131477 0.71946897]\n"
     ]
    }
   ],
   "source": [
    "#using seed\n",
    "\n",
    "import numpy as np\n",
    "\n",
    "# Set the random seed to ensure reproducibility\n",
    "np.random.seed(123)\n",
    "\n",
    "# Generate an array of 5 random numbers between 0 and 1\n",
    "random_numbers = np.random.rand(5)   #uniform distribution\n",
    "print(\"Random numbers with seed 123:\", random_numbers)\n",
    "\n",
    "# Reset the seed to generate the same sequence again\n",
    "np.random.seed(123)\n",
    "print(\"Random numbers with seed 123 (again):\", np.random.rand(5))"
   ]
  },
  {
   "cell_type": "code",
   "execution_count": 12,
   "metadata": {},
   "outputs": [
    {
     "name": "stdout",
     "output_type": "stream",
     "text": [
      "10\n",
      "\n",
      "\n",
      "\n",
      "7\n",
      "\n",
      "[[0.41092437 0.5796943  0.13995076 0.40101756 0.62731701 0.32415089\n",
      "  0.24475928 0.69475518 0.5939024  0.63179202 0.44025718]]\n",
      "5\n",
      "8\n",
      "3\n",
      "5\n",
      "9\n",
      "1\n",
      "8\n",
      "10\n"
     ]
    }
   ],
   "source": [
    "#Random numbers in numpy\n",
    "\n",
    "#using seed will generate fixed random number when generating random number values\n",
    "\n",
    "\n",
    "\n",
    "#random integer between ( low,high)\n",
    "arr=np.random.randint(1,11)\n",
    "print(arr)\n",
    "print('\\n\\n')\n",
    "\n",
    "arr1=np.random.randint(1,11)\n",
    "\n",
    "arr2=np.random.rand(1,11)# Generate an array of 10 random numbers between 0 and 1\n",
    "\n",
    "print(arr1)\n",
    "print()\n",
    "print(arr2)\n",
    "\n",
    "\n",
    "\n",
    "#program to demo the use of random numbers( will print 10 atleast once)\n",
    "while True:\n",
    "    a=np.random.randint(1,11)\n",
    "    print(a)\n",
    "    if(a==10):\n",
    "        break"
   ]
  },
  {
   "cell_type": "code",
   "execution_count": 13,
   "metadata": {},
   "outputs": [
    {
     "name": "stdout",
     "output_type": "stream",
     "text": [
      "[4 5 7 2 6 7 3 2 9 4]\n"
     ]
    }
   ],
   "source": [
    "# to generate random numbers arary of a particular size: use the keyword argument size\n",
    "\n",
    "print(np.random.randint(1,11,size=10))              "
   ]
  },
  {
   "cell_type": "markdown",
   "metadata": {},
   "source": [
    "<h1>MATRIX OPERATIONS</h1>\n"
   ]
  },
  {
   "cell_type": "code",
   "execution_count": 14,
   "metadata": {},
   "outputs": [
    {
     "name": "stdout",
     "output_type": "stream",
     "text": [
      "[[0 1]\n",
      " [2 3]]\n",
      "\n",
      "[[2 1]\n",
      " [0 3]]\n"
     ]
    }
   ],
   "source": [
    "#\n",
    "A=np.array([0,1,2,3]).reshape(2,2)\n",
    "B=np.random.randint(0,4,size=4).reshape(2,2)\n",
    "\n",
    "print(A)\n",
    "print()\n",
    "print(B)\n",
    "\n"
   ]
  },
  {
   "cell_type": "markdown",
   "metadata": {},
   "source": [
    "Dot product of a matrix"
   ]
  },
  {
   "cell_type": "code",
   "execution_count": 15,
   "metadata": {},
   "outputs": [
    {
     "name": "stdout",
     "output_type": "stream",
     "text": [
      "[[ 0  3]\n",
      " [ 4 11]]\n",
      "\n",
      "[[ 0  3]\n",
      " [ 4 11]]\n"
     ]
    }
   ],
   "source": [
    "print(A.dot(B))\n",
    "\n",
    "# OR\n",
    "print()\n",
    "print(np.dot(A,B))\n",
    "\n",
    "\n",
    "#this means that the dot is both method and a function of the np module\n"
   ]
  },
  {
   "cell_type": "markdown",
   "metadata": {},
   "source": [
    "Transpose"
   ]
  },
  {
   "cell_type": "code",
   "execution_count": 16,
   "metadata": {},
   "outputs": [
    {
     "name": "stdout",
     "output_type": "stream",
     "text": [
      "[[0 2]\n",
      " [1 3]]\n",
      "\n",
      "[[0 2]\n",
      " [1 3]]\n"
     ]
    }
   ],
   "source": [
    "#Transpose is both a function and a method\n",
    "print(np.transpose(A))\n",
    "\n",
    "print()\n",
    "print(A.transpose())"
   ]
  },
  {
   "cell_type": "markdown",
   "metadata": {},
   "source": [
    "Inverse of a matrix"
   ]
  },
  {
   "cell_type": "code",
   "execution_count": 17,
   "metadata": {},
   "outputs": [
    {
     "name": "stdout",
     "output_type": "stream",
     "text": [
      "[[-1.5  0.5]\n",
      " [ 1.   0. ]]\n"
     ]
    }
   ],
   "source": [
    "print(np.linalg.inv(A))"
   ]
  },
  {
   "cell_type": "markdown",
   "metadata": {},
   "source": [
    "determinant of a matrix"
   ]
  },
  {
   "cell_type": "code",
   "execution_count": 18,
   "metadata": {},
   "outputs": [
    {
     "data": {
      "text/plain": [
       "-2.0"
      ]
     },
     "execution_count": 18,
     "metadata": {},
     "output_type": "execute_result"
    }
   ],
   "source": [
    "np.linalg.det(A)"
   ]
  },
  {
   "cell_type": "markdown",
   "metadata": {},
   "source": [
    "eigen vectors and eigen values"
   ]
  },
  {
   "cell_type": "code",
   "execution_count": 21,
   "metadata": {},
   "outputs": [
    {
     "data": {
      "text/plain": [
       "EigResult(eigenvalues=array([-0.56155281,  3.56155281]), eigenvectors=array([[-0.87192821, -0.27032301],\n",
       "       [ 0.48963374, -0.96276969]]))"
      ]
     },
     "execution_count": 21,
     "metadata": {},
     "output_type": "execute_result"
    }
   ],
   "source": [
    "np.linalg.eig(A)"
   ]
  },
  {
   "cell_type": "code",
   "execution_count": null,
   "metadata": {},
   "outputs": [],
   "source": []
  }
 ],
 "metadata": {
  "kernelspec": {
   "display_name": "base",
   "language": "python",
   "name": "python3"
  },
  "language_info": {
   "codemirror_mode": {
    "name": "ipython",
    "version": 3
   },
   "file_extension": ".py",
   "mimetype": "text/x-python",
   "name": "python",
   "nbconvert_exporter": "python",
   "pygments_lexer": "ipython3",
   "version": "3.12.7"
  }
 },
 "nbformat": 4,
 "nbformat_minor": 2
}
