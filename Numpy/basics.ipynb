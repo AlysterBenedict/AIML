{
 "cells": [
  {
   "cell_type": "code",
   "execution_count": 1,
   "metadata": {},
   "outputs": [
    {
     "name": "stdout",
     "output_type": "stream",
     "text": [
      "[1 3 5 7 9]\n",
      "<class 'numpy.ndarray'>\n"
     ]
    }
   ],
   "source": [
    "import numpy as np\n",
    "np.__version__\n",
    "arr1=np.array([1,3,5,7,9])   ## any sequence like list, tuple, set, etc can be converted to numpy array\n",
    "print(arr1)\n",
    "print(type(arr1))"
   ]
  },
  {
   "cell_type": "code",
   "execution_count": 2,
   "metadata": {},
   "outputs": [
    {
     "name": "stdout",
     "output_type": "stream",
     "text": [
      "the id of arr 1: 2410516271472\n",
      "the id of arr 2: 2410520811376\n"
     ]
    },
    {
     "data": {
      "text/plain": [
       "False"
      ]
     },
     "execution_count": 2,
     "metadata": {},
     "output_type": "execute_result"
    }
   ],
   "source": [
    "#id() function is used to get the memory location of an object\n",
    "\n",
    "\n",
    "print(f\"the id of arr 1: {id(arr1)}\") ##location of array in memory \n",
    "arr2=np.array([1,3,5,7,9])\n",
    "print(f\"the id of arr 2: {id(arr2)}\") ##location of array in memory(has a different locatiojn in the memory)\n",
    "arr1 is arr2 ## both are different objects in memory"
   ]
  },
  {
   "cell_type": "code",
   "execution_count": 3,
   "metadata": {},
   "outputs": [
    {
     "name": "stdout",
     "output_type": "stream",
     "text": [
      "the id of arr 1: 2410516271472\n",
      "the id of arr 3: 2410516271472\n",
      "the id of arr 4: 2410516271184\n"
     ]
    }
   ],
   "source": [
    "# copying array and checking if both are same objects in memory\n",
    "\n",
    "arr3=arr1\n",
    "print(f\"the id of arr 1: {id(arr1)}\")\n",
    "print(f\"the id of arr 3: {id(arr3)}\")\n",
    " ## both are same objects in memory\n",
    "\n",
    "\n",
    " #copying the array\n",
    "arr4=arr1.copy()\n",
    "\n",
    "print(f\"the id of arr 4: {id(arr4)}\")  ## different objects in memory\n"
   ]
  },
  {
   "cell_type": "code",
   "execution_count": 4,
   "metadata": {},
   "outputs": [
    {
     "name": "stdout",
     "output_type": "stream",
     "text": [
      "[1 3 5 7 9]\n",
      "<class 'numpy.ndarray'>\n",
      "[1 3 5 7 9]\n",
      "<class 'numpy.ndarray'>\n",
      "{'one': 1, 'two': 2, 'three': 3}\n",
      "<class 'numpy.ndarray'>\n",
      "{1, 3, 5, 7, 9}\n",
      "<class 'numpy.ndarray'>\n",
      "object\n"
     ]
    }
   ],
   "source": [
    "#Creating arrays with different data types\n",
    "\n",
    "#creating arrays with lists\n",
    "arr5=np.array([1,3,5,7,9])\n",
    "print(arr5)\n",
    "print(type(arr5))\n",
    "\n",
    "#CREATING ARRAYS WITH TUPLES\n",
    "arr6=np.array((1,3,5,7,9))\n",
    "print(arr6)\n",
    "print(type(arr6))\n",
    "\n",
    "\n",
    "#CREATING ARRAYS WITH DICTIONARIES\n",
    "arr7=np.array({'one':1,'two':2,'three':3})\n",
    "print(arr7)\n",
    "\n",
    "\n",
    "print(type(arr7))     ## both are numpy arrays\n",
    "\n",
    "\n",
    "#creating array with sets:\n",
    "arr8=np.array({1,3,5,7,9})\n",
    "print(arr8)\n",
    "print(type(arr8))  ## it is a numpy array\n",
    "\n",
    "\n",
    "#the data type of the array can be checked using the dtype attribute\n",
    "print(arr8.dtype) ## the sets and the dictionaries have the data type of object whereas the list and tuple have the data type of int64\n"
   ]
  },
  {
   "cell_type": "code",
   "execution_count": null,
   "metadata": {},
   "outputs": [
    {
     "name": "stdout",
     "output_type": "stream",
     "text": [
      "[1 3 5 7 9]\n",
      "<class 'numpy.ndarray'>\n"
     ]
    }
   ],
   "source": [
    "#creating array with arange() function\n",
    "\n",
    "arr9=np.arange(1,10,2)## the first argument is the starting point, the second argument is the ending point(exclusive) and the third argument is the step size\n",
    "print(arr9)\n",
    "print(type(arr9)) ## it is an array"
   ]
  },
  {
   "cell_type": "code",
   "execution_count": 6,
   "metadata": {},
   "outputs": [
    {
     "name": "stdout",
     "output_type": "stream",
     "text": [
      "5\n",
      "5\n"
     ]
    }
   ],
   "source": [
    "#FINDING THE LENGTH OF THE ARRAY\n",
    "print(len(arr9))   #len function is used to find the length of the array\n",
    "print(arr9.size) ## size attribute is used to find the length of the array"
   ]
  },
  {
   "cell_type": "code",
   "execution_count": 7,
   "metadata": {},
   "outputs": [
    {
     "name": "stdout",
     "output_type": "stream",
     "text": [
      "['333' '333.333' 'False' 'hello']\n",
      "<U32\n",
      "<class 'numpy.ndarray'>\n"
     ]
    },
    {
     "data": {
      "text/plain": [
       "numpy.str_"
      ]
     },
     "execution_count": 7,
     "metadata": {},
     "output_type": "execute_result"
    }
   ],
   "source": [
    "arr10=np.array([333,333.333,False,'hello'])\n",
    "print(arr10)\n",
    "print(arr10.dtype) ## the data type of the array is object\n",
    "print(type(arr10)) ## it is a numpy array\n",
    "\n",
    "np.array([111,1.1,True]) ## the data type of the array is float64\n",
    "\n",
    "\n",
    "type(arr10[0]) ## the data type of the array is a string"
   ]
  },
  {
   "cell_type": "code",
   "execution_count": 8,
   "metadata": {},
   "outputs": [
    {
     "name": "stdout",
     "output_type": "stream",
     "text": [
      "['apple' 'banana' 'cherry' 'date']\n",
      "<class 'numpy.ndarray'>\n",
      "<U6\n"
     ]
    }
   ],
   "source": [
    "arr11=np.array(['apple','banana','cherry','date'])\n",
    "print(arr11)\n",
    "print(type(arr11))\n",
    "print(arr11.dtype) ## the data type"
   ]
  },
  {
   "cell_type": "code",
   "execution_count": 9,
   "metadata": {},
   "outputs": [
    {
     "data": {
      "text/plain": [
       "array([ 0. ,  2.5,  5. ,  7.5, 10. ])"
      ]
     },
     "execution_count": 9,
     "metadata": {},
     "output_type": "execute_result"
    }
   ],
   "source": [
    "##creating arrays with linspace() method\n",
    "\n",
    "#endpoint=True: Step size = (stop - start) / (num - 1) → Includes stop, smaller steps to fit it.\n",
    "#endpoint=False: Step size = (stop - start) / num → Excludes stop, bigger steps since stop isn’t part of the array.\n",
    "\n",
    "np.linspace(0,10,5,endpoint=True) ## the first argument is the starting point, the second argument is the ending point, the third argument is the number of elements in the array and the fourth argument is the endpoint"
   ]
  },
  {
   "cell_type": "code",
   "execution_count": 10,
   "metadata": {},
   "outputs": [
    {
     "name": "stdout",
     "output_type": "stream",
     "text": [
      "[-10.          -8.94736842  -7.89473684  -6.84210526  -5.78947368\n",
      "  -4.73684211  -3.68421053  -2.63157895  -1.57894737  -0.52631579\n",
      "   0.52631579   1.57894737   2.63157895   3.68421053   4.73684211\n",
      "   5.78947368   6.84210526   7.89473684   8.94736842  10.        ]\n"
     ]
    }
   ],
   "source": [
    "arr12=np.linspace(-10,10,20)\n",
    "print(arr12)"
   ]
  },
  {
   "cell_type": "code",
   "execution_count": 11,
   "metadata": {},
   "outputs": [
    {
     "name": "stdout",
     "output_type": "stream",
     "text": [
      "[0. 0. 0. 0. 0.]\n",
      "float64\n",
      "\n",
      "[1. 1. 1. 1. 1.]\n",
      "float64\n"
     ]
    }
   ],
   "source": [
    "#creating array with zeros() function\n",
    "arr13=np.zeros(5) ## the argument is the number of elements in the array\n",
    "print(arr13)\n",
    "print(arr13.dtype) ## the data type of the array is float64\n",
    "\n",
    "print()\n",
    "#creating arrays of ones:\\\n",
    "arr14=np.ones(5) ## the argument is the number of elements in the array\n",
    "print(arr14)\n",
    "print(arr14.dtype) ## the data type of the array is float64"
   ]
  },
  {
   "cell_type": "code",
   "execution_count": 12,
   "metadata": {},
   "outputs": [
    {
     "name": "stdout",
     "output_type": "stream",
     "text": [
      "[[1 2 3]\n",
      " [4 5 6]\n",
      " [7 8 9]]\n",
      "3\n"
     ]
    },
    {
     "data": {
      "text/plain": [
       "2"
      ]
     },
     "execution_count": 12,
     "metadata": {},
     "output_type": "execute_result"
    }
   ],
   "source": [
    "#Multidimentional arrays\n",
    "\n",
    "list1=[[1,2,3],[4,5,6],[7,8,9]]\n",
    "arr15=np.array(list1)\n",
    "print(arr15)\n",
    "print(arr10[0][2])\n",
    "\n",
    "\n",
    "#checking the dimentions of the array\n",
    "arr15.ndim ## the ndim attribute is used to find the number of dimentions of the array"
   ]
  },
  {
   "cell_type": "code",
   "execution_count": null,
   "metadata": {},
   "outputs": [
    {
     "name": "stdout",
     "output_type": "stream",
     "text": [
      "[[[0. 0. 0.]\n",
      "  [0. 0. 0.]\n",
      "  [0. 0. 0.]]\n",
      "\n",
      " [[0. 0. 0.]\n",
      "  [0. 0. 0.]\n",
      "  [0. 0. 0.]]\n",
      "\n",
      " [[0. 0. 0.]\n",
      "  [0. 0. 0.]\n",
      "  [0. 0. 0.]]]\n"
     ]
    },
    {
     "data": {
      "text/plain": [
       "numpy.float64"
      ]
     },
     "execution_count": 13,
     "metadata": {},
     "output_type": "execute_result"
    }
   ],
   "source": [
    "#the np.zeros() function can be used to create multidimentional arrays(always gives the numbers as a float)\n",
    "arr16=np.zeros((3,3,3)) ## the argument is a tuple with the number of layers , rows and columns\n",
    "print(arr16)\n",
    "\n",
    "type(arr16[0][0][0])"
   ]
  },
  {
   "cell_type": "code",
   "execution_count": 14,
   "metadata": {},
   "outputs": [
    {
     "name": "stdout",
     "output_type": "stream",
     "text": [
      "[[[0 0 0]\n",
      "  [0 0 0]\n",
      "  [0 0 0]]\n",
      "\n",
      " [[0 0 0]\n",
      "  [0 0 0]\n",
      "  [0 0 0]]\n",
      "\n",
      " [[0 0 0]\n",
      "  [0 0 0]\n",
      "  [0 0 0]]]\n"
     ]
    },
    {
     "data": {
      "text/plain": [
       "numpy.int32"
      ]
     },
     "execution_count": 14,
     "metadata": {},
     "output_type": "execute_result"
    }
   ],
   "source": [
    "#to create an array of a particular data type use the keyword argument dtype\n",
    "arr17=np.zeros((3,3,3),dtype=int)\n",
    "print(arr17)\n",
    "type(arr17[0][0][0])"
   ]
  },
  {
   "cell_type": "code",
   "execution_count": 15,
   "metadata": {},
   "outputs": [
    {
     "name": "stdout",
     "output_type": "stream",
     "text": [
      "[[[0. 0. 0.]\n",
      "  [0. 0. 0.]\n",
      "  [0. 0. 0.]]\n",
      "\n",
      " [[0. 0. 0.]\n",
      "  [0. 0. 0.]\n",
      "  [0. 0. 0.]]\n",
      "\n",
      " [[0. 0. 0.]\n",
      "  [0. 0. 0.]\n",
      "  [0. 0. 0.]]]\n"
     ]
    },
    {
     "data": {
      "text/plain": [
       "numpy.float64"
      ]
     },
     "execution_count": 15,
     "metadata": {},
     "output_type": "execute_result"
    }
   ],
   "source": [
    "#to change the value to a float use the astype() method\n",
    "arr18=arr17.astype(float)\n",
    "print(arr18)\n",
    "type(arr18[0][0][0])"
   ]
  },
  {
   "cell_type": "code",
   "execution_count": null,
   "metadata": {},
   "outputs": [
    {
     "name": "stdout",
     "output_type": "stream",
     "text": [
      "(3, 3, 3)\n",
      "27\n",
      "float64\n",
      "3\n",
      "8\n"
     ]
    }
   ],
   "source": [
    "#THE ATTRIBUTES OF THE NUMPY OBJECT\n",
    "#shape attribute is used to find the number of rows and columns in the array\n",
    "print(arr18.shape) \n",
    "\n",
    "#size attribute is used to find the number of elements in the array\n",
    "print(arr18.size)\n",
    "\n",
    "#dtype attribute is used to find the data type of the array\n",
    "print(arr18.dtype)\n",
    "\n",
    "#ndim attribute is used to find the number of dimentions of the array\n",
    "print(arr18.ndim)\n",
    "\n",
    "#itemsize attribute is used to find the size(in bytes) of each element in the array\n",
    "print(arr18.itemsize)\n",
    "\n"
   ]
  },
  {
   "cell_type": "code",
   "execution_count": 17,
   "metadata": {},
   "outputs": [
    {
     "name": "stdout",
     "output_type": "stream",
     "text": [
      "[1 2 3 4 5 6 7 8 9]\n",
      "(9,)\n",
      "\n",
      "[[1 2 3]\n",
      " [4 5 6]\n",
      " [7 8 9]]\n",
      "(3, 3)\n"
     ]
    }
   ],
   "source": [
    "#RESHAPING THE ARRAY USING THE RESHAPE() METHOD\n",
    "arr19=np.arange(1,10)\n",
    "print(arr19)\n",
    "print(arr19.shape)  # for one d array it returns the number  of elements in the array\n",
    "print()\n",
    "\n",
    "ARR20=arr19.reshape(3,3)\n",
    "print(ARR20)\n",
    "print(ARR20.shape)\n",
    "\n"
   ]
  },
  {
   "cell_type": "code",
   "execution_count": 18,
   "metadata": {},
   "outputs": [
    {
     "name": "stdout",
     "output_type": "stream",
     "text": [
      "[0.62825446 0.59074357 0.14480539 0.95508999 0.78865307]\n",
      "\n",
      "[[ 1.48287685 -1.54962221  0.56657682]\n",
      " [ 0.21759083 -1.16290572  0.13334374]\n",
      " [ 0.47041656 -0.29315705 -1.78843187]]\n"
     ]
    }
   ],
   "source": [
    "#Random numberrs in numpy(submodule of numpy)\n",
    "#rand() function is used to generate random numbers in the range of 0 to 1\n",
    "\n",
    "arr21=np.random.rand(5)     #the numbers are generated from the uniform distribution(0 to 1)\n",
    "print(arr21)\n",
    "\n",
    "print()\n",
    "arr22=np.random.randn(3,3) ## the random numbers are generated from the standard normal distribution(mean=0,standard deviation=1)\n",
    "print(arr22)"
   ]
  },
  {
   "cell_type": "code",
   "execution_count": 19,
   "metadata": {},
   "outputs": [
    {
     "name": "stdout",
     "output_type": "stream",
     "text": [
      "[[-0.73543779  0.9619233  -0.4571539  ...  0.02986879 -1.33878825\n",
      "   0.81553514]\n",
      " [ 0.77011888  0.19422928 -0.55443997 ...  1.20271853 -0.69422546\n",
      "   0.9539109 ]\n",
      " [ 1.42180902 -0.03384928 -0.24479813 ...  1.3339731  -1.10729208\n",
      "   0.66625594]\n",
      " ...\n",
      " [-0.55621541  0.0330763   0.18591357 ...  0.20435316 -0.45000049\n",
      "   0.77261423]\n",
      " [-1.12385242  0.13119749 -1.65617508 ... -0.42652836 -0.21048807\n",
      "   0.03507575]\n",
      " [ 1.08569765  0.42564647  0.31565689 ... -1.5049273  -0.10545147\n",
      "   1.3278108 ]]\n",
      "\n",
      "the mean of the array is -0.000021\n"
     ]
    }
   ],
   "source": [
    "#MEAN OF THE ARRAY ( both a method and a function)\n",
    "\n",
    "arr23=np.random.randn(10000,10000)\n",
    "\n",
    "print(arr23)\n",
    "print()\n",
    "print(f\"the mean of the array is {arr23.mean():+5f}\") ## the mean of the array is calculated using the mean() method\n",
    "#else mean=np.mean(arr23)  ## the mean of the array is calculated using the mean() function\n",
    "\n",
    "\n",
    "\n",
    "#the average is close to zero but not exactly zero because the random numbers are generated from the standard normal distribution(mean=0,standard deviation=1)\n",
    "#as u increase the size of the array the mean of the array approaches zero"
   ]
  },
  {
   "cell_type": "markdown",
   "metadata": {},
   "source": [
    "* the performance of the numpy array is better than the python list\n",
    "* the numpy multiplies 2 to the array at once compared to the python list which multiplies 2 to each element of the list"
   ]
  },
  {
   "cell_type": "code",
   "execution_count": 20,
   "metadata": {},
   "outputs": [
    {
     "name": "stdout",
     "output_type": "stream",
     "text": [
      "CPU times: total: 1.78 s\n",
      "Wall time: 1.76 s\n"
     ]
    }
   ],
   "source": [
    "\n",
    "%%time\n",
    "for i in range(1000):\n",
    "    np.arange(1000000) * 2"
   ]
  },
  {
   "cell_type": "code",
   "execution_count": 21,
   "metadata": {},
   "outputs": [
    {
     "name": "stdout",
     "output_type": "stream",
     "text": [
      "CPU times: total: 25.7 s\n",
      "Wall time: 26.5 s\n"
     ]
    }
   ],
   "source": [
    "%%time\n",
    "for i in range(1000):\n",
    "    list(range(1000000)) * 2"
   ]
  },
  {
   "cell_type": "code",
   "execution_count": 42,
   "metadata": {},
   "outputs": [
    {
     "name": "stdout",
     "output_type": "stream",
     "text": [
      "[ 4  8  9  5  2 10 11 12]\n",
      "\n",
      "[[5 6 4]\n",
      " [3 6 7]\n",
      " [6 1 8]]\n",
      "\n",
      "[[ 5  6  4 10]\n",
      " [ 3  6  7 11]\n",
      " [ 6  1  8 12]]\n",
      "\n",
      "[[ 5  6  4]\n",
      " [ 3  6  7]\n",
      " [ 6  1  8]\n",
      " [10 11 12]]\n"
     ]
    }
   ],
   "source": [
    "###adding elements to the existing array\n",
    "\n",
    "arr24=np.random.randint(1,10,5) ## the first argument is the starting point, the second argument is the ending point and the third argument is the number of elements in the array\n",
    "arr25=np.append(arr24,[10,11,12]) ## the append() method is used to add elements to the array\n",
    "print(arr25)\n",
    "print()\n",
    "\n",
    "\n",
    "\n",
    "\n",
    "\n",
    "arr26=np.random.randint(1,10,(3,3))\n",
    "print(arr26)\n",
    "print()\n",
    " ## the first argument is the starting point, the second argument is the ending point and the third argument is the shape of the array\n",
    "\n",
    "#inserting elements to the column\n",
    "arr27=np.append(arr26,[[10],[11],[12]],axis=1)  #3x1\n",
    "\n",
    "print(arr27)\n",
    "\n",
    "print()\n",
    "#inserting elements to the row\n",
    "arr28=np.append(arr26,[[10,11,12]],axis=0)  #1x3\n",
    "print(arr28)"
   ]
  },
  {
   "cell_type": "code",
   "execution_count": 63,
   "metadata": {},
   "outputs": [
    {
     "name": "stdout",
     "output_type": "stream",
     "text": [
      "[[5 6 9 4]\n",
      " [6 3 8 6]\n",
      " [7 2 5 2]\n",
      " [6 1 1 3]]\n",
      "\n",
      "[5 6 4 6 3 8 6 7 2 5 2 6 1 1 3]\n",
      "\n",
      "the third row is deleted\n",
      "[[5 6 9 4]\n",
      " [6 3 8 6]\n",
      " [6 1 1 3]]\n",
      "\n",
      "the third column is deleted\n",
      "[[5 6 4]\n",
      " [6 3 6]\n",
      " [7 2 2]\n",
      " [6 1 3]]\n",
      "\n",
      "the original reshaped array\n",
      "[[5 6 9 4 6 3 8 6]\n",
      " [7 2 5 2 6 1 1 3]]\n"
     ]
    }
   ],
   "source": [
    "#deleting elements from the array\n",
    "arr29=np.random.randint(1,10,(4,4))\n",
    "print(arr29)\n",
    "print()\n",
    "\n",
    "\n",
    "#the first argument is the array and the second argument is the index of the element to be deleted\n",
    "arr30=np.delete(arr29,2) ## the delete() method is used to delete elements from the array \n",
    "print(arr30)\n",
    "\n",
    "print()\n",
    "print('the third row is deleted')\n",
    "#deleting an entire row:\n",
    "arr31=np.delete(arr29,2,axis=0) \n",
    "print(arr31)\n",
    "\n",
    "print()\n",
    "print('the third column is deleted')\n",
    "#deleting an entire column:\n",
    "arr32=np.delete(arr29,2,axis=1)\n",
    "print(arr32)\n",
    "\n",
    "print()\n",
    "print('the original reshaped array')\n",
    "print(arr29.reshape(2,8))"
   ]
  },
  {
   "cell_type": "code",
   "execution_count": null,
   "metadata": {},
   "outputs": [],
   "source": []
  }
 ],
 "metadata": {
  "kernelspec": {
   "display_name": "base",
   "language": "python",
   "name": "python3"
  },
  "language_info": {
   "codemirror_mode": {
    "name": "ipython",
    "version": 3
   },
   "file_extension": ".py",
   "mimetype": "text/x-python",
   "name": "python",
   "nbconvert_exporter": "python",
   "pygments_lexer": "ipython3",
   "version": "3.12.7"
  }
 },
 "nbformat": 4,
 "nbformat_minor": 2
}
