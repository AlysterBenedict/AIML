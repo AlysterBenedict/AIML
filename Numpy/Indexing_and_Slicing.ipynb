{
 "cells": [
  {
   "cell_type": "markdown",
   "metadata": {},
   "source": [
    "<h1>Indexing</h1>"
   ]
  },
  {
   "cell_type": "code",
   "execution_count": 266,
   "metadata": {},
   "outputs": [
    {
     "name": "stdout",
     "output_type": "stream",
     "text": [
      "0\n",
      "[0 1 2 3]\n",
      "2\n"
     ]
    }
   ],
   "source": [
    "#Indexing\n",
    "#indexing in python array is like python list indexing\n",
    "\n",
    "import numpy as np\n",
    "\n",
    "a=np.arange(0,4)\n",
    "b=np.arange(0,12).reshape(3,4)\n",
    "\n",
    "print(a[0])\n",
    "\n",
    "print(b[0])\n",
    "print(b[0][2])\n"
   ]
  },
  {
   "cell_type": "code",
   "execution_count": null,
   "metadata": {},
   "outputs": [
    {
     "name": "stdout",
     "output_type": "stream",
     "text": [
      "2\n"
     ]
    }
   ],
   "source": [
    "#Using the comma operator\n",
    "print(b[0,2])    # same as using print(b[0][2])"
   ]
  },
  {
   "cell_type": "code",
   "execution_count": 268,
   "metadata": {},
   "outputs": [
    {
     "name": "stdout",
     "output_type": "stream",
     "text": [
      "[0 1 2 3]\n",
      "the array after modification is : [ 0  1 20  3]\n"
     ]
    }
   ],
   "source": [
    "#changing the values\n",
    "print(a)\n",
    "a[2]=20\n",
    "print(f'the array after modification is : {a}')"
   ]
  },
  {
   "cell_type": "markdown",
   "metadata": {},
   "source": [
    "Selecting multiple elements"
   ]
  },
  {
   "cell_type": "code",
   "execution_count": 269,
   "metadata": {},
   "outputs": [
    {
     "data": {
      "text/plain": [
       "array([ 1,  3, 20])"
      ]
     },
     "execution_count": 269,
     "metadata": {},
     "output_type": "execute_result"
    }
   ],
   "source": [
    "#from the 1d array\n",
    "#use [[]] outer bracket for indexing and inner for positions\n",
    "\n",
    "a[[1,3,2]] #elements at pos 1,3 and 2"
   ]
  },
  {
   "cell_type": "code",
   "execution_count": 270,
   "metadata": {},
   "outputs": [
    {
     "name": "stdout",
     "output_type": "stream",
     "text": [
      "[[ 0  1  2  3]\n",
      " [ 4  5  6  7]\n",
      " [ 8  9 10 11]]\n",
      "\n",
      "[[10 20 30 40]\n",
      " [ 4  5  6  7]\n",
      " [ 8  9 10 11]]\n"
     ]
    }
   ],
   "source": [
    "#modifying entire Row\n",
    "print(b)\n",
    "b[0]=np.array([10,20,30,40])\n",
    "print()\n",
    "print(b)"
   ]
  },
  {
   "cell_type": "code",
   "execution_count": 271,
   "metadata": {},
   "outputs": [
    {
     "data": {
      "text/plain": [
       "array([10,  9])"
      ]
     },
     "execution_count": 271,
     "metadata": {},
     "output_type": "execute_result"
    }
   ],
   "source": [
    "#of the 2D array\n",
    "#arrayname[[row positions,.....],[column positions......]]\n",
    "b[[0,2],[0,1]]  #(0,0) , (2,1)"
   ]
  },
  {
   "cell_type": "markdown",
   "metadata": {},
   "source": [
    "Selecting array elements by condition"
   ]
  },
  {
   "cell_type": "code",
   "execution_count": 272,
   "metadata": {},
   "outputs": [
    {
     "name": "stdout",
     "output_type": "stream",
     "text": [
      "[4 5 7 6 5 9 3 4 7 7]\n",
      "[4 5 7 6 5 9 4 7 7]\n"
     ]
    }
   ],
   "source": [
    "arr=np.random.randint(0,10,size=10)\n",
    "print(arr)\n",
    "print(arr[arr>3])  #elements > 3 are returned"
   ]
  },
  {
   "cell_type": "code",
   "execution_count": 273,
   "metadata": {},
   "outputs": [
    {
     "data": {
      "text/plain": [
       "array([4, 6, 4])"
      ]
     },
     "execution_count": 273,
     "metadata": {},
     "output_type": "execute_result"
    }
   ],
   "source": [
    "arr[arr%2==0] ##even numbers are printed"
   ]
  },
  {
   "cell_type": "markdown",
   "metadata": {},
   "source": [
    "<h1>Slicing</h1>"
   ]
  },
  {
   "cell_type": "code",
   "execution_count": 274,
   "metadata": {},
   "outputs": [],
   "source": [
    "#Instead of selecting one element , an range of elements in the array is specified"
   ]
  },
  {
   "cell_type": "code",
   "execution_count": null,
   "metadata": {},
   "outputs": [],
   "source": [
    "#1D array \n",
    "# arr[start position : end position]   end is exclusive"
   ]
  },
  {
   "cell_type": "code",
   "execution_count": 276,
   "metadata": {},
   "outputs": [
    {
     "name": "stdout",
     "output_type": "stream",
     "text": [
      "[53 62 52 31 49  9 14 85 60 51]\n",
      "[49  9]\n",
      "[53 62 52]\n",
      "[6 5 9 3 4 7 7]\n"
     ]
    }
   ],
   "source": [
    "arr3=np.random.randint(0,100,size=10)\n",
    "print(arr3)\n",
    "print(arr3[4:6])\n",
    "print(arr3[:3])\n",
    "print(arr[3:])"
   ]
  },
  {
   "cell_type": "code",
   "execution_count": 277,
   "metadata": {},
   "outputs": [
    {
     "name": "stdout",
     "output_type": "stream",
     "text": [
      "[[56 27 48 92 13]\n",
      " [48 68 97 57 47]\n",
      " [34 12 73  3 14]\n",
      " [15 14 30  2  2]\n",
      " [37 35 60 13 84]]\n",
      "\n",
      "[[56 27 48 92 13]\n",
      " [48 68 97 57 47]]\n"
     ]
    }
   ],
   "source": [
    "#Multidimensional Array:\n",
    "arr4=np.random.randint(0,100,size=25).reshape(5,5)\n",
    "print(arr4)\n",
    "print()\n",
    "print(arr4[:2])"
   ]
  },
  {
   "cell_type": "code",
   "execution_count": 278,
   "metadata": {},
   "outputs": [
    {
     "name": "stdout",
     "output_type": "stream",
     "text": [
      "[[27 48 92 13]\n",
      " [68 97 57 47]]\n",
      "\n",
      "[48 68]\n",
      "\n",
      "[[56]\n",
      " [48]\n",
      " [34]\n",
      " [15]\n",
      " [37]]\n"
     ]
    }
   ],
   "source": [
    "#It is also possible to slice multi dimensional arrays by crossing several indices\n",
    "print(arr4[:2,1:]) # extracts the subarray consisting of the first two rows and the last four columns of the original 5x5 array.\n",
    "print()\n",
    "print(arr4[1,:2]) #selecting 2nd row and 2 columns\n",
    "\n",
    "print()\n",
    "print(arr4[:,:1])"
   ]
  },
  {
   "cell_type": "markdown",
   "metadata": {},
   "source": [
    "Selecting in Boolean values"
   ]
  },
  {
   "cell_type": "code",
   "execution_count": 279,
   "metadata": {},
   "outputs": [
    {
     "name": "stdout",
     "output_type": "stream",
     "text": [
      "[False  True False False  True]\n",
      "['aly' 'aly']\n"
     ]
    }
   ],
   "source": [
    "names=np.array(['bob','aly','alvin','benedict','aly'])\n",
    "\n",
    "print(names=='aly')\n",
    "print(names[names=='aly'])"
   ]
  },
  {
   "cell_type": "markdown",
   "metadata": {},
   "source": [
    "fancy Indexing"
   ]
  },
  {
   "cell_type": "code",
   "execution_count": 280,
   "metadata": {},
   "outputs": [
    {
     "name": "stdout",
     "output_type": "stream",
     "text": [
      "[[0. 0. 0. 0.]\n",
      " [1. 1. 1. 1.]\n",
      " [2. 2. 2. 2.]\n",
      " [3. 3. 3. 3.]\n",
      " [4. 4. 4. 4.]\n",
      " [5. 5. 5. 5.]\n",
      " [6. 6. 6. 6.]\n",
      " [7. 7. 7. 7.]]\n",
      "[[0. 0. 0. 0.]\n",
      " [1. 1. 1. 1.]\n",
      " [2. 2. 2. 2.]\n",
      " [3. 3. 3. 3.]\n",
      " [4. 4. 4. 4.]\n",
      " [5. 5. 5. 5.]\n",
      " [6. 6. 6. 6.]\n",
      " [7. 7. 7. 7.]]\n"
     ]
    }
   ],
   "source": [
    "#creating an empty array\n",
    "arr2=np.empty((8,4))\n",
    "print(arr2)\n",
    "\n",
    "for i in range(8):\n",
    "    arr2[i]=i\n",
    "print(arr2)"
   ]
  },
  {
   "cell_type": "code",
   "execution_count": 281,
   "metadata": {},
   "outputs": [
    {
     "data": {
      "text/plain": [
       "array([[0., 0., 0., 0.],\n",
       "       [2., 2., 2., 2.],\n",
       "       [4., 4., 4., 4.],\n",
       "       [6., 6., 6., 6.]])"
      ]
     },
     "execution_count": 281,
     "metadata": {},
     "output_type": "execute_result"
    }
   ],
   "source": [
    "arr2[[0,2,4,6]]"
   ]
  },
  {
   "cell_type": "code",
   "execution_count": 282,
   "metadata": {},
   "outputs": [
    {
     "data": {
      "text/plain": [
       "array([[5., 5., 5., 5.],\n",
       "       [3., 3., 3., 3.]])"
      ]
     },
     "execution_count": 282,
     "metadata": {},
     "output_type": "execute_result"
    }
   ],
   "source": [
    "\n",
    "arr2[[-3,-5]] "
   ]
  },
  {
   "cell_type": "code",
   "execution_count": 283,
   "metadata": {},
   "outputs": [
    {
     "name": "stdout",
     "output_type": "stream",
     "text": [
      "[ 0  5 10 15 20]\n",
      "[15 20]\n"
     ]
    }
   ],
   "source": [
    "arr5=np.arange(21)\n",
    "arrmask=(arr5%5==0) # boolean true index\n",
    "print(arr5[arrmask])\n",
    "\n",
    "print(arr5[arrmask& (arr5>10)])"
   ]
  },
  {
   "cell_type": "markdown",
   "metadata": {},
   "source": [
    "Array Transposition"
   ]
  },
  {
   "cell_type": "code",
   "execution_count": 284,
   "metadata": {},
   "outputs": [
    {
     "name": "stdout",
     "output_type": "stream",
     "text": [
      "[[ 1  2  3  4  5  6  7  8  9 10]\n",
      " [11 12 13 14 15 16 17 18 19 20]]\n"
     ]
    },
    {
     "data": {
      "text/plain": [
       "array([[122, 134, 146, 158, 170, 182, 194, 206, 218, 230],\n",
       "       [134, 148, 162, 176, 190, 204, 218, 232, 246, 260],\n",
       "       [146, 162, 178, 194, 210, 226, 242, 258, 274, 290],\n",
       "       [158, 176, 194, 212, 230, 248, 266, 284, 302, 320],\n",
       "       [170, 190, 210, 230, 250, 270, 290, 310, 330, 350],\n",
       "       [182, 204, 226, 248, 270, 292, 314, 336, 358, 380],\n",
       "       [194, 218, 242, 266, 290, 314, 338, 362, 386, 410],\n",
       "       [206, 232, 258, 284, 310, 336, 362, 388, 414, 440],\n",
       "       [218, 246, 274, 302, 330, 358, 386, 414, 442, 470],\n",
       "       [230, 260, 290, 320, 350, 380, 410, 440, 470, 500]])"
      ]
     },
     "execution_count": 284,
     "metadata": {},
     "output_type": "execute_result"
    }
   ],
   "source": [
    "arr1=np.arange(1,21).reshape(2,10)\n",
    "\n",
    "print(arr1)\n",
    "#arr.T is same as arr.transpose()\n",
    "np.dot(arr1.T,arr1)"
   ]
  },
  {
   "cell_type": "code",
   "execution_count": 285,
   "metadata": {},
   "outputs": [
    {
     "name": "stdout",
     "output_type": "stream",
     "text": [
      "[[ 1  2  3  4  5  6  7  8  9 10]\n",
      " [11 12 13 14 15 16 17 18 19 20]]\n",
      "\n",
      "[[ 1 11]\n",
      " [ 2 12]\n",
      " [ 3 13]\n",
      " [ 4 14]\n",
      " [ 5 15]\n",
      " [ 6 16]\n",
      " [ 7 17]\n",
      " [ 8 18]\n",
      " [ 9 19]\n",
      " [10 20]]\n"
     ]
    }
   ],
   "source": [
    "print(arr1.transpose(0,1))\n",
    "print()\n",
    "print(arr1.transpose(1,0))\n",
    "\n",
    "#transpose(0,1) leaves the array unchanged, while transpose(1,0) swaps the rows and columns."
   ]
  },
  {
   "cell_type": "code",
   "execution_count": 286,
   "metadata": {},
   "outputs": [
    {
     "name": "stdout",
     "output_type": "stream",
     "text": [
      "[[[ 0  1  2  3]\n",
      "  [ 4  5  6  7]]\n",
      "\n",
      " [[ 8  9 10 11]\n",
      "  [12 13 14 15]]]\n",
      "\n",
      "\n",
      "[[[ 0  8]\n",
      "  [ 4 12]]\n",
      "\n",
      " [[ 1  9]\n",
      "  [ 5 13]]\n",
      "\n",
      " [[ 2 10]\n",
      "  [ 6 14]]\n",
      "\n",
      " [[ 3 11]\n",
      "  [ 7 15]]]\n"
     ]
    }
   ],
   "source": [
    "#3-D array\n",
    "arr=np.arange(16).reshape(2,2,4)\n",
    "print(arr)\n",
    "print()\n",
    "print()\n",
    "print(arr.T)"
   ]
  },
  {
   "cell_type": "code",
   "execution_count": 287,
   "metadata": {},
   "outputs": [
    {
     "data": {
      "text/plain": [
       "array([[[ 0,  4],\n",
       "        [ 1,  5],\n",
       "        [ 2,  6],\n",
       "        [ 3,  7]],\n",
       "\n",
       "       [[ 8, 12],\n",
       "        [ 9, 13],\n",
       "        [10, 14],\n",
       "        [11, 15]]])"
      ]
     },
     "execution_count": 287,
     "metadata": {},
     "output_type": "execute_result"
    }
   ],
   "source": [
    "\"\"\"\n",
    "Summary:\n",
    "transpose(0,1,2): No change, same arrangement.\n",
    "transpose(0,2,1): Swaps rows and columns within each block, changing the shape to (2, 4, 2).\n",
    "transpose(1,0,2): Swaps the block order with the row order. With equal sizes (2 and 2), the shape stays (2, 2, 4) but the internal order is altered.\n",
    "transpose(1,2,0): Rearranges so that rows come first, columns second, and blocks last, resulting in a shape of (2, 4, 2).\n",
    "transpose(2,0,1): Moves the columns (original axis 2) to the front, giving a shape of (4, 2, 2).\n",
    "transpose(2,1,0): Reverses the axes order completely, also resulting in (4, 2, 2).\n",
    "Each permutation reorganizes the data differently, which can be useful for aligning dimensions for certain operations or for interfacing with libraries that expect data in a particular order.\n",
    "\"\"\"\n",
    "\n",
    "#swaps n axes\n",
    "arr.transpose(0,2,1)"
   ]
  },
  {
   "cell_type": "code",
   "execution_count": 288,
   "metadata": {},
   "outputs": [
    {
     "data": {
      "text/plain": [
       "array([[[ 0,  8],\n",
       "        [ 4, 12]],\n",
       "\n",
       "       [[ 1,  9],\n",
       "        [ 5, 13]],\n",
       "\n",
       "       [[ 2, 10],\n",
       "        [ 6, 14]],\n",
       "\n",
       "       [[ 3, 11],\n",
       "        [ 7, 15]]])"
      ]
     },
     "execution_count": 288,
     "metadata": {},
     "output_type": "execute_result"
    }
   ],
   "source": [
    "#swap axes method to swap 2 axes\n",
    "arr.swapaxes(0,2)\n"
   ]
  }
 ],
 "metadata": {
  "kernelspec": {
   "display_name": "base",
   "language": "python",
   "name": "python3"
  },
  "language_info": {
   "codemirror_mode": {
    "name": "ipython",
    "version": 3
   },
   "file_extension": ".py",
   "mimetype": "text/x-python",
   "name": "python",
   "nbconvert_exporter": "python",
   "pygments_lexer": "ipython3",
   "version": "3.12.7"
  }
 },
 "nbformat": 4,
 "nbformat_minor": 2
}
